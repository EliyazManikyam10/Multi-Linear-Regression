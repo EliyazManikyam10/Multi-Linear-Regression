{
 "cells": [
  {
   "cell_type": "code",
   "execution_count": 1,
   "metadata": {},
   "outputs": [],
   "source": [
    "import pandas as pd\n",
    "import numpy as np\n",
    "import seaborn as sns\n",
    "import matplotlib.pyplot as plt\n",
    "from sklearn.preprocessing import StandardScaler, LabelEncoder\n",
    "import statsmodels.formula.api as smf\n",
    "from statsmodels.graphics.regressionplots import influence_plot"
   ]
  },
  {
   "cell_type": "code",
   "execution_count": 2,
   "metadata": {},
   "outputs": [
    {
     "data": {
      "text/html": [
       "<div>\n",
       "<style scoped>\n",
       "    .dataframe tbody tr th:only-of-type {\n",
       "        vertical-align: middle;\n",
       "    }\n",
       "\n",
       "    .dataframe tbody tr th {\n",
       "        vertical-align: top;\n",
       "    }\n",
       "\n",
       "    .dataframe thead th {\n",
       "        text-align: right;\n",
       "    }\n",
       "</style>\n",
       "<table border=\"1\" class=\"dataframe\">\n",
       "  <thead>\n",
       "    <tr style=\"text-align: right;\">\n",
       "      <th></th>\n",
       "      <th>Id</th>\n",
       "      <th>Model</th>\n",
       "      <th>Price</th>\n",
       "      <th>Age_08_04</th>\n",
       "      <th>Mfg_Month</th>\n",
       "      <th>Mfg_Year</th>\n",
       "      <th>KM</th>\n",
       "      <th>Fuel_Type</th>\n",
       "      <th>HP</th>\n",
       "      <th>Met_Color</th>\n",
       "      <th>...</th>\n",
       "      <th>Central_Lock</th>\n",
       "      <th>Powered_Windows</th>\n",
       "      <th>Power_Steering</th>\n",
       "      <th>Radio</th>\n",
       "      <th>Mistlamps</th>\n",
       "      <th>Sport_Model</th>\n",
       "      <th>Backseat_Divider</th>\n",
       "      <th>Metallic_Rim</th>\n",
       "      <th>Radio_cassette</th>\n",
       "      <th>Tow_Bar</th>\n",
       "    </tr>\n",
       "  </thead>\n",
       "  <tbody>\n",
       "    <tr>\n",
       "      <th>0</th>\n",
       "      <td>1</td>\n",
       "      <td>TOYOTA Corolla 2.0 D4D HATCHB TERRA 2/3-Doors</td>\n",
       "      <td>13500</td>\n",
       "      <td>23</td>\n",
       "      <td>10</td>\n",
       "      <td>2002</td>\n",
       "      <td>46986</td>\n",
       "      <td>Diesel</td>\n",
       "      <td>90</td>\n",
       "      <td>1</td>\n",
       "      <td>...</td>\n",
       "      <td>1</td>\n",
       "      <td>1</td>\n",
       "      <td>1</td>\n",
       "      <td>0</td>\n",
       "      <td>0</td>\n",
       "      <td>0</td>\n",
       "      <td>1</td>\n",
       "      <td>0</td>\n",
       "      <td>0</td>\n",
       "      <td>0</td>\n",
       "    </tr>\n",
       "    <tr>\n",
       "      <th>1</th>\n",
       "      <td>2</td>\n",
       "      <td>TOYOTA Corolla 2.0 D4D HATCHB TERRA 2/3-Doors</td>\n",
       "      <td>13750</td>\n",
       "      <td>23</td>\n",
       "      <td>10</td>\n",
       "      <td>2002</td>\n",
       "      <td>72937</td>\n",
       "      <td>Diesel</td>\n",
       "      <td>90</td>\n",
       "      <td>1</td>\n",
       "      <td>...</td>\n",
       "      <td>1</td>\n",
       "      <td>0</td>\n",
       "      <td>1</td>\n",
       "      <td>0</td>\n",
       "      <td>0</td>\n",
       "      <td>0</td>\n",
       "      <td>1</td>\n",
       "      <td>0</td>\n",
       "      <td>0</td>\n",
       "      <td>0</td>\n",
       "    </tr>\n",
       "    <tr>\n",
       "      <th>2</th>\n",
       "      <td>3</td>\n",
       "      <td>TOYOTA Corolla 2.0 D4D HATCHB TERRA 2/3-Doors</td>\n",
       "      <td>13950</td>\n",
       "      <td>24</td>\n",
       "      <td>9</td>\n",
       "      <td>2002</td>\n",
       "      <td>41711</td>\n",
       "      <td>Diesel</td>\n",
       "      <td>90</td>\n",
       "      <td>1</td>\n",
       "      <td>...</td>\n",
       "      <td>0</td>\n",
       "      <td>0</td>\n",
       "      <td>1</td>\n",
       "      <td>0</td>\n",
       "      <td>0</td>\n",
       "      <td>0</td>\n",
       "      <td>1</td>\n",
       "      <td>0</td>\n",
       "      <td>0</td>\n",
       "      <td>0</td>\n",
       "    </tr>\n",
       "    <tr>\n",
       "      <th>3</th>\n",
       "      <td>4</td>\n",
       "      <td>TOYOTA Corolla 2.0 D4D HATCHB TERRA 2/3-Doors</td>\n",
       "      <td>14950</td>\n",
       "      <td>26</td>\n",
       "      <td>7</td>\n",
       "      <td>2002</td>\n",
       "      <td>48000</td>\n",
       "      <td>Diesel</td>\n",
       "      <td>90</td>\n",
       "      <td>0</td>\n",
       "      <td>...</td>\n",
       "      <td>0</td>\n",
       "      <td>0</td>\n",
       "      <td>1</td>\n",
       "      <td>0</td>\n",
       "      <td>0</td>\n",
       "      <td>0</td>\n",
       "      <td>1</td>\n",
       "      <td>0</td>\n",
       "      <td>0</td>\n",
       "      <td>0</td>\n",
       "    </tr>\n",
       "    <tr>\n",
       "      <th>4</th>\n",
       "      <td>5</td>\n",
       "      <td>TOYOTA Corolla 2.0 D4D HATCHB SOL 2/3-Doors</td>\n",
       "      <td>13750</td>\n",
       "      <td>30</td>\n",
       "      <td>3</td>\n",
       "      <td>2002</td>\n",
       "      <td>38500</td>\n",
       "      <td>Diesel</td>\n",
       "      <td>90</td>\n",
       "      <td>0</td>\n",
       "      <td>...</td>\n",
       "      <td>1</td>\n",
       "      <td>1</td>\n",
       "      <td>1</td>\n",
       "      <td>0</td>\n",
       "      <td>1</td>\n",
       "      <td>0</td>\n",
       "      <td>1</td>\n",
       "      <td>0</td>\n",
       "      <td>0</td>\n",
       "      <td>0</td>\n",
       "    </tr>\n",
       "  </tbody>\n",
       "</table>\n",
       "<p>5 rows × 38 columns</p>\n",
       "</div>"
      ],
      "text/plain": [
       "   Id                                           Model  Price  Age_08_04  \\\n",
       "0   1   TOYOTA Corolla 2.0 D4D HATCHB TERRA 2/3-Doors  13500         23   \n",
       "1   2   TOYOTA Corolla 2.0 D4D HATCHB TERRA 2/3-Doors  13750         23   \n",
       "2   3   TOYOTA Corolla 2.0 D4D HATCHB TERRA 2/3-Doors  13950         24   \n",
       "3   4   TOYOTA Corolla 2.0 D4D HATCHB TERRA 2/3-Doors  14950         26   \n",
       "4   5     TOYOTA Corolla 2.0 D4D HATCHB SOL 2/3-Doors  13750         30   \n",
       "\n",
       "   Mfg_Month  Mfg_Year     KM Fuel_Type  HP  Met_Color  ... Central_Lock  \\\n",
       "0         10      2002  46986    Diesel  90          1  ...            1   \n",
       "1         10      2002  72937    Diesel  90          1  ...            1   \n",
       "2          9      2002  41711    Diesel  90          1  ...            0   \n",
       "3          7      2002  48000    Diesel  90          0  ...            0   \n",
       "4          3      2002  38500    Diesel  90          0  ...            1   \n",
       "\n",
       "   Powered_Windows  Power_Steering  Radio  Mistlamps  Sport_Model  \\\n",
       "0                1               1      0          0            0   \n",
       "1                0               1      0          0            0   \n",
       "2                0               1      0          0            0   \n",
       "3                0               1      0          0            0   \n",
       "4                1               1      0          1            0   \n",
       "\n",
       "   Backseat_Divider  Metallic_Rim  Radio_cassette  Tow_Bar  \n",
       "0                 1             0               0        0  \n",
       "1                 1             0               0        0  \n",
       "2                 1             0               0        0  \n",
       "3                 1             0               0        0  \n",
       "4                 1             0               0        0  \n",
       "\n",
       "[5 rows x 38 columns]"
      ]
     },
     "execution_count": 2,
     "metadata": {},
     "output_type": "execute_result"
    }
   ],
   "source": [
    "toyota_data = pd.read_csv(\"ToyotaCorolla.csv\",encoding= 'unicode_escape')\n",
    "toyota_data.head()"
   ]
  },
  {
   "cell_type": "code",
   "execution_count": 3,
   "metadata": {},
   "outputs": [
    {
     "data": {
      "text/plain": [
       "(1436, 38)"
      ]
     },
     "execution_count": 3,
     "metadata": {},
     "output_type": "execute_result"
    }
   ],
   "source": [
    "toyota_data.shape"
   ]
  },
  {
   "cell_type": "code",
   "execution_count": 4,
   "metadata": {},
   "outputs": [
    {
     "data": {
      "text/plain": [
       "Index(['Id', 'Model', 'Price', 'Age_08_04', 'Mfg_Month', 'Mfg_Year', 'KM',\n",
       "       'Fuel_Type', 'HP', 'Met_Color', 'Color', 'Automatic', 'cc', 'Doors',\n",
       "       'Cylinders', 'Gears', 'Quarterly_Tax', 'Weight', 'Mfr_Guarantee',\n",
       "       'BOVAG_Guarantee', 'Guarantee_Period', 'ABS', 'Airbag_1', 'Airbag_2',\n",
       "       'Airco', 'Automatic_airco', 'Boardcomputer', 'CD_Player',\n",
       "       'Central_Lock', 'Powered_Windows', 'Power_Steering', 'Radio',\n",
       "       'Mistlamps', 'Sport_Model', 'Backseat_Divider', 'Metallic_Rim',\n",
       "       'Radio_cassette', 'Tow_Bar'],\n",
       "      dtype='object')"
      ]
     },
     "execution_count": 4,
     "metadata": {},
     "output_type": "execute_result"
    }
   ],
   "source": [
    "toyota_data.columns"
   ]
  },
  {
   "cell_type": "code",
   "execution_count": 5,
   "metadata": {},
   "outputs": [
    {
     "name": "stderr",
     "output_type": "stream",
     "text": [
      "/Users/lakshmipriya/opt/anaconda3/lib/python3.8/site-packages/seaborn/distributions.py:2551: FutureWarning: `distplot` is a deprecated function and will be removed in a future version. Please adapt your code to use either `displot` (a figure-level function with similar flexibility) or `histplot` (an axes-level function for histograms).\n",
      "  warnings.warn(msg, FutureWarning)\n"
     ]
    },
    {
     "data": {
      "text/plain": [
       "<AxesSubplot:xlabel='Price', ylabel='Density'>"
      ]
     },
     "execution_count": 5,
     "metadata": {},
     "output_type": "execute_result"
    },
    {
     "data": {
      "image/png": "[encoded data removed]",
      "text/plain": [
       "<Figure size 432x288 with 1 Axes>"
      ]
     },
     "metadata": {
      "needs_background": "light"
     },
     "output_type": "display_data"
    }
   ],
   "source": [
    "sns.distplot(toyota_data.Price)"
   ]
  },
  {
   "cell_type": "code",
   "execution_count": 6,
   "metadata": {},
   "outputs": [],
   "source": [
    "model = smf.ols('Price~Age_08_04+KM+HP+cc+Doors+Gears+Quarterly_Tax+Weight',data=toyota_data).fit()"
   ]
  },
  {
   "cell_type": "code",
   "execution_count": 7,
   "metadata": {},
   "outputs": [
    {
     "data": {
      "text/html": [
       "<table class=\"simpletable\">\n",
       "<caption>OLS Regression Results</caption>\n",
       "<tr>\n",
       "  <th>Dep. Variable:</th>          <td>Price</td>      <th>  R-squared:         </th> <td>   0.864</td> \n",
       "</tr>\n",
       "<tr>\n",
       "  <th>Model:</th>                   <td>OLS</td>       <th>  Adj. R-squared:    </th> <td>   0.863</td> \n",
       "</tr>\n",
       "<tr>\n",
       "  <th>Method:</th>             <td>Least Squares</td>  <th>  F-statistic:       </th> <td>   1131.</td> \n",
       "</tr>\n",
       "<tr>\n",
       "  <th>Date:</th>             <td>Mon, 31 May 2021</td> <th>  Prob (F-statistic):</th>  <td>  0.00</td>  \n",
       "</tr>\n",
       "<tr>\n",
       "  <th>Time:</th>                 <td>12:44:58</td>     <th>  Log-Likelihood:    </th> <td> -12376.</td> \n",
       "</tr>\n",
       "<tr>\n",
       "  <th>No. Observations:</th>      <td>  1436</td>      <th>  AIC:               </th> <td>2.477e+04</td>\n",
       "</tr>\n",
       "<tr>\n",
       "  <th>Df Residuals:</th>          <td>  1427</td>      <th>  BIC:               </th> <td>2.482e+04</td>\n",
       "</tr>\n",
       "<tr>\n",
       "  <th>Df Model:</th>              <td>     8</td>      <th>                     </th>     <td> </td>    \n",
       "</tr>\n",
       "<tr>\n",
       "  <th>Covariance Type:</th>      <td>nonrobust</td>    <th>                     </th>     <td> </td>    \n",
       "</tr>\n",
       "</table>\n",
       "<table class=\"simpletable\">\n",
       "<tr>\n",
       "        <td></td>           <th>coef</th>     <th>std err</th>      <th>t</th>      <th>P>|t|</th>  <th>[0.025</th>    <th>0.975]</th>  \n",
       "</tr>\n",
       "<tr>\n",
       "  <th>Intercept</th>     <td>-5573.1064</td> <td> 1411.390</td> <td>   -3.949</td> <td> 0.000</td> <td>-8341.728</td> <td>-2804.485</td>\n",
       "</tr>\n",
       "<tr>\n",
       "  <th>Age_08_04</th>     <td> -121.6584</td> <td>    2.616</td> <td>  -46.512</td> <td> 0.000</td> <td> -126.789</td> <td> -116.527</td>\n",
       "</tr>\n",
       "<tr>\n",
       "  <th>KM</th>            <td>   -0.0208</td> <td>    0.001</td> <td>  -16.622</td> <td> 0.000</td> <td>   -0.023</td> <td>   -0.018</td>\n",
       "</tr>\n",
       "<tr>\n",
       "  <th>HP</th>            <td>   31.6809</td> <td>    2.818</td> <td>   11.241</td> <td> 0.000</td> <td>   26.152</td> <td>   37.209</td>\n",
       "</tr>\n",
       "<tr>\n",
       "  <th>cc</th>            <td>   -0.1211</td> <td>    0.090</td> <td>   -1.344</td> <td> 0.179</td> <td>   -0.298</td> <td>    0.056</td>\n",
       "</tr>\n",
       "<tr>\n",
       "  <th>Doors</th>         <td>   -1.6166</td> <td>   40.006</td> <td>   -0.040</td> <td> 0.968</td> <td>  -80.093</td> <td>   76.859</td>\n",
       "</tr>\n",
       "<tr>\n",
       "  <th>Gears</th>         <td>  594.3199</td> <td>  197.055</td> <td>    3.016</td> <td> 0.003</td> <td>  207.771</td> <td>  980.869</td>\n",
       "</tr>\n",
       "<tr>\n",
       "  <th>Quarterly_Tax</th> <td>    3.9491</td> <td>    1.310</td> <td>    3.015</td> <td> 0.003</td> <td>    1.379</td> <td>    6.519</td>\n",
       "</tr>\n",
       "<tr>\n",
       "  <th>Weight</th>        <td>   16.9586</td> <td>    1.068</td> <td>   15.880</td> <td> 0.000</td> <td>   14.864</td> <td>   19.054</td>\n",
       "</tr>\n",
       "</table>\n",
       "<table class=\"simpletable\">\n",
       "<tr>\n",
       "  <th>Omnibus:</th>       <td>151.719</td> <th>  Durbin-Watson:     </th> <td>   1.543</td> \n",
       "</tr>\n",
       "<tr>\n",
       "  <th>Prob(Omnibus):</th> <td> 0.000</td>  <th>  Jarque-Bera (JB):  </th> <td>1011.853</td> \n",
       "</tr>\n",
       "<tr>\n",
       "  <th>Skew:</th>          <td>-0.219</td>  <th>  Prob(JB):          </th> <td>1.90e-220</td>\n",
       "</tr>\n",
       "<tr>\n",
       "  <th>Kurtosis:</th>      <td> 7.089</td>  <th>  Cond. No.          </th> <td>3.13e+06</td> \n",
       "</tr>\n",
       "</table><br/><br/>Notes:<br/>[1] Standard Errors assume that the covariance matrix of the errors is correctly specified.<br/>[2] The condition number is large, 3.13e+06. This might indicate that there are<br/>strong multicollinearity or other numerical problems."
      ],
      "text/plain": [
       "<class 'statsmodels.iolib.summary.Summary'>\n",
       "\"\"\"\n",
       "                            OLS Regression Results                            \n",
       "==============================================================================\n",
       "Dep. Variable:                  Price   R-squared:                       0.864\n",
       "Model:                            OLS   Adj. R-squared:                  0.863\n",
       "Method:                 Least Squares   F-statistic:                     1131.\n",
       "Date:                Mon, 31 May 2021   Prob (F-statistic):               0.00\n",
       "Time:                        12:44:58   Log-Likelihood:                -12376.\n",
       "No. Observations:                1436   AIC:                         2.477e+04\n",
       "Df Residuals:                    1427   BIC:                         2.482e+04\n",
       "Df Model:                           8                                         \n",
       "Covariance Type:            nonrobust                                         \n",
       "=================================================================================\n",
       "                    coef    std err          t      P>|t|      [0.025      0.975]\n",
       "---------------------------------------------------------------------------------\n",
       "Intercept     -5573.1064   1411.390     -3.949      0.000   -8341.728   -2804.485\n",
       "Age_08_04      -121.6584      2.616    -46.512      0.000    -126.789    -116.527\n",
       "KM               -0.0208      0.001    -16.622      0.000      -0.023      -0.018\n",
       "HP               31.6809      2.818     11.241      0.000      26.152      37.209\n",
       "cc               -0.1211      0.090     -1.344      0.179      -0.298       0.056\n",
       "Doors            -1.6166     40.006     -0.040      0.968     -80.093      76.859\n",
       "Gears           594.3199    197.055      3.016      0.003     207.771     980.869\n",
       "Quarterly_Tax     3.9491      1.310      3.015      0.003       1.379       6.519\n",
       "Weight           16.9586      1.068     15.880      0.000      14.864      19.054\n",
       "==============================================================================\n",
       "Omnibus:                      151.719   Durbin-Watson:                   1.543\n",
       "Prob(Omnibus):                  0.000   Jarque-Bera (JB):             1011.853\n",
       "Skew:                          -0.219   Prob(JB):                    1.90e-220\n",
       "Kurtosis:                       7.089   Cond. No.                     3.13e+06\n",
       "==============================================================================\n",
       "\n",
       "Notes:\n",
       "[1] Standard Errors assume that the covariance matrix of the errors is correctly specified.\n",
       "[2] The condition number is large, 3.13e+06. This might indicate that there are\n",
       "strong multicollinearity or other numerical problems.\n",
       "\"\"\""
      ]
     },
     "execution_count": 7,
     "metadata": {},
     "output_type": "execute_result"
    }
   ],
   "source": [
    "model.summary()"
   ]
  },
  {
   "cell_type": "code",
   "execution_count": 8,
   "metadata": {},
   "outputs": [
    {
     "data": {
      "text/plain": [
       "(0.8637627463428192,\n",
       " 24769.07664007625,\n",
       " Intercept         8.241949e-05\n",
       " Age_08_04        3.354724e-288\n",
       " KM                7.538439e-57\n",
       " HP                3.757218e-28\n",
       " cc                1.790902e-01\n",
       " Doors             9.677716e-01\n",
       " Gears             2.606549e-03\n",
       " Quarterly_Tax     2.619148e-03\n",
       " Weight            2.048576e-52\n",
       " dtype: float64)"
      ]
     },
     "execution_count": 8,
     "metadata": {},
     "output_type": "execute_result"
    }
   ],
   "source": [
    "model.rsquared,model.aic, model.pvalues"
   ]
  },
  {
   "cell_type": "code",
   "execution_count": 9,
   "metadata": {},
   "outputs": [],
   "source": [
    "# the p value of cc and door is > 0.05,so lets check individually"
   ]
  },
  {
   "cell_type": "code",
   "execution_count": 10,
   "metadata": {},
   "outputs": [
    {
     "data": {
      "text/html": [
       "<table class=\"simpletable\">\n",
       "<caption>OLS Regression Results</caption>\n",
       "<tr>\n",
       "  <th>Dep. Variable:</th>          <td>Price</td>      <th>  R-squared:         </th> <td>   0.016</td> \n",
       "</tr>\n",
       "<tr>\n",
       "  <th>Model:</th>                   <td>OLS</td>       <th>  Adj. R-squared:    </th> <td>   0.015</td> \n",
       "</tr>\n",
       "<tr>\n",
       "  <th>Method:</th>             <td>Least Squares</td>  <th>  F-statistic:       </th> <td>   23.28</td> \n",
       "</tr>\n",
       "<tr>\n",
       "  <th>Date:</th>             <td>Mon, 31 May 2021</td> <th>  Prob (F-statistic):</th> <td>1.55e-06</td> \n",
       "</tr>\n",
       "<tr>\n",
       "  <th>Time:</th>                 <td>12:44:59</td>     <th>  Log-Likelihood:    </th> <td> -13795.</td> \n",
       "</tr>\n",
       "<tr>\n",
       "  <th>No. Observations:</th>      <td>  1436</td>      <th>  AIC:               </th> <td>2.759e+04</td>\n",
       "</tr>\n",
       "<tr>\n",
       "  <th>Df Residuals:</th>          <td>  1434</td>      <th>  BIC:               </th> <td>2.760e+04</td>\n",
       "</tr>\n",
       "<tr>\n",
       "  <th>Df Model:</th>              <td>     1</td>      <th>                     </th>     <td> </td>    \n",
       "</tr>\n",
       "<tr>\n",
       "  <th>Covariance Type:</th>      <td>nonrobust</td>    <th>                     </th>     <td> </td>    \n",
       "</tr>\n",
       "</table>\n",
       "<table class=\"simpletable\">\n",
       "<tr>\n",
       "      <td></td>         <th>coef</th>     <th>std err</th>      <th>t</th>      <th>P>|t|</th>  <th>[0.025</th>    <th>0.975]</th>  \n",
       "</tr>\n",
       "<tr>\n",
       "  <th>Intercept</th> <td> 9027.5548</td> <td>  365.576</td> <td>   24.694</td> <td> 0.000</td> <td> 8310.435</td> <td> 9744.675</td>\n",
       "</tr>\n",
       "<tr>\n",
       "  <th>cc</th>        <td>    1.0802</td> <td>    0.224</td> <td>    4.825</td> <td> 0.000</td> <td>    0.641</td> <td>    1.519</td>\n",
       "</tr>\n",
       "</table>\n",
       "<table class=\"simpletable\">\n",
       "<tr>\n",
       "  <th>Omnibus:</th>       <td>465.181</td> <th>  Durbin-Watson:     </th> <td>   0.267</td> \n",
       "</tr>\n",
       "<tr>\n",
       "  <th>Prob(Omnibus):</th> <td> 0.000</td>  <th>  Jarque-Bera (JB):  </th> <td>1390.401</td> \n",
       "</tr>\n",
       "<tr>\n",
       "  <th>Skew:</th>          <td> 1.649</td>  <th>  Prob(JB):          </th> <td>1.20e-302</td>\n",
       "</tr>\n",
       "<tr>\n",
       "  <th>Kurtosis:</th>      <td> 6.516</td>  <th>  Cond. No.          </th> <td>6.29e+03</td> \n",
       "</tr>\n",
       "</table><br/><br/>Notes:<br/>[1] Standard Errors assume that the covariance matrix of the errors is correctly specified.<br/>[2] The condition number is large, 6.29e+03. This might indicate that there are<br/>strong multicollinearity or other numerical problems."
      ],
      "text/plain": [
       "<class 'statsmodels.iolib.summary.Summary'>\n",
       "\"\"\"\n",
       "                            OLS Regression Results                            \n",
       "==============================================================================\n",
       "Dep. Variable:                  Price   R-squared:                       0.016\n",
       "Model:                            OLS   Adj. R-squared:                  0.015\n",
       "Method:                 Least Squares   F-statistic:                     23.28\n",
       "Date:                Mon, 31 May 2021   Prob (F-statistic):           1.55e-06\n",
       "Time:                        12:44:59   Log-Likelihood:                -13795.\n",
       "No. Observations:                1436   AIC:                         2.759e+04\n",
       "Df Residuals:                    1434   BIC:                         2.760e+04\n",
       "Df Model:                           1                                         \n",
       "Covariance Type:            nonrobust                                         \n",
       "==============================================================================\n",
       "                 coef    std err          t      P>|t|      [0.025      0.975]\n",
       "------------------------------------------------------------------------------\n",
       "Intercept   9027.5548    365.576     24.694      0.000    8310.435    9744.675\n",
       "cc             1.0802      0.224      4.825      0.000       0.641       1.519\n",
       "==============================================================================\n",
       "Omnibus:                      465.181   Durbin-Watson:                   0.267\n",
       "Prob(Omnibus):                  0.000   Jarque-Bera (JB):             1390.401\n",
       "Skew:                           1.649   Prob(JB):                    1.20e-302\n",
       "Kurtosis:                       6.516   Cond. No.                     6.29e+03\n",
       "==============================================================================\n",
       "\n",
       "Notes:\n",
       "[1] Standard Errors assume that the covariance matrix of the errors is correctly specified.\n",
       "[2] The condition number is large, 6.29e+03. This might indicate that there are\n",
       "strong multicollinearity or other numerical problems.\n",
       "\"\"\""
      ]
     },
     "execution_count": 10,
     "metadata": {},
     "output_type": "execute_result"
    }
   ],
   "source": [
    "mdl_cc = smf.ols('Price~cc',data=toyota_data).fit()\n",
    "mdl_cc.summary()"
   ]
  },
  {
   "cell_type": "code",
   "execution_count": 11,
   "metadata": {},
   "outputs": [
    {
     "data": {
      "text/plain": [
       "Intercept    1.766912e-112\n",
       "cc            1.550808e-06\n",
       "dtype: float64"
      ]
     },
     "execution_count": 11,
     "metadata": {},
     "output_type": "execute_result"
    }
   ],
   "source": [
    "mdl_cc.pvalues"
   ]
  },
  {
   "cell_type": "code",
   "execution_count": 12,
   "metadata": {},
   "outputs": [
    {
     "data": {
      "text/html": [
       "<table class=\"simpletable\">\n",
       "<caption>OLS Regression Results</caption>\n",
       "<tr>\n",
       "  <th>Dep. Variable:</th>          <td>Price</td>      <th>  R-squared:         </th> <td>   0.034</td> \n",
       "</tr>\n",
       "<tr>\n",
       "  <th>Model:</th>                   <td>OLS</td>       <th>  Adj. R-squared:    </th> <td>   0.034</td> \n",
       "</tr>\n",
       "<tr>\n",
       "  <th>Method:</th>             <td>Least Squares</td>  <th>  F-statistic:       </th> <td>   51.00</td> \n",
       "</tr>\n",
       "<tr>\n",
       "  <th>Date:</th>             <td>Mon, 31 May 2021</td> <th>  Prob (F-statistic):</th> <td>1.46e-12</td> \n",
       "</tr>\n",
       "<tr>\n",
       "  <th>Time:</th>                 <td>12:45:00</td>     <th>  Log-Likelihood:    </th> <td> -13782.</td> \n",
       "</tr>\n",
       "<tr>\n",
       "  <th>No. Observations:</th>      <td>  1436</td>      <th>  AIC:               </th> <td>2.757e+04</td>\n",
       "</tr>\n",
       "<tr>\n",
       "  <th>Df Residuals:</th>          <td>  1434</td>      <th>  BIC:               </th> <td>2.758e+04</td>\n",
       "</tr>\n",
       "<tr>\n",
       "  <th>Df Model:</th>              <td>     1</td>      <th>                     </th>     <td> </td>    \n",
       "</tr>\n",
       "<tr>\n",
       "  <th>Covariance Type:</th>      <td>nonrobust</td>    <th>                     </th>     <td> </td>    \n",
       "</tr>\n",
       "</table>\n",
       "<table class=\"simpletable\">\n",
       "<tr>\n",
       "      <td></td>         <th>coef</th>     <th>std err</th>      <th>t</th>      <th>P>|t|</th>  <th>[0.025</th>    <th>0.975]</th>  \n",
       "</tr>\n",
       "<tr>\n",
       "  <th>Intercept</th> <td> 7885.0058</td> <td>  409.438</td> <td>   19.258</td> <td> 0.000</td> <td> 7081.843</td> <td> 8688.168</td>\n",
       "</tr>\n",
       "<tr>\n",
       "  <th>Doors</th>     <td>  705.5586</td> <td>   98.795</td> <td>    7.142</td> <td> 0.000</td> <td>  511.761</td> <td>  899.356</td>\n",
       "</tr>\n",
       "</table>\n",
       "<table class=\"simpletable\">\n",
       "<tr>\n",
       "  <th>Omnibus:</th>       <td>466.779</td> <th>  Durbin-Watson:     </th> <td>   0.287</td> \n",
       "</tr>\n",
       "<tr>\n",
       "  <th>Prob(Omnibus):</th> <td> 0.000</td>  <th>  Jarque-Bera (JB):  </th> <td>1406.209</td> \n",
       "</tr>\n",
       "<tr>\n",
       "  <th>Skew:</th>          <td> 1.651</td>  <th>  Prob(JB):          </th> <td>4.42e-306</td>\n",
       "</tr>\n",
       "<tr>\n",
       "  <th>Kurtosis:</th>      <td> 6.549</td>  <th>  Cond. No.          </th> <td>    19.0</td> \n",
       "</tr>\n",
       "</table><br/><br/>Notes:<br/>[1] Standard Errors assume that the covariance matrix of the errors is correctly specified."
      ],
      "text/plain": [
       "<class 'statsmodels.iolib.summary.Summary'>\n",
       "\"\"\"\n",
       "                            OLS Regression Results                            \n",
       "==============================================================================\n",
       "Dep. Variable:                  Price   R-squared:                       0.034\n",
       "Model:                            OLS   Adj. R-squared:                  0.034\n",
       "Method:                 Least Squares   F-statistic:                     51.00\n",
       "Date:                Mon, 31 May 2021   Prob (F-statistic):           1.46e-12\n",
       "Time:                        12:45:00   Log-Likelihood:                -13782.\n",
       "No. Observations:                1436   AIC:                         2.757e+04\n",
       "Df Residuals:                    1434   BIC:                         2.758e+04\n",
       "Df Model:                           1                                         \n",
       "Covariance Type:            nonrobust                                         \n",
       "==============================================================================\n",
       "                 coef    std err          t      P>|t|      [0.025      0.975]\n",
       "------------------------------------------------------------------------------\n",
       "Intercept   7885.0058    409.438     19.258      0.000    7081.843    8688.168\n",
       "Doors        705.5586     98.795      7.142      0.000     511.761     899.356\n",
       "==============================================================================\n",
       "Omnibus:                      466.779   Durbin-Watson:                   0.287\n",
       "Prob(Omnibus):                  0.000   Jarque-Bera (JB):             1406.209\n",
       "Skew:                           1.651   Prob(JB):                    4.42e-306\n",
       "Kurtosis:                       6.549   Cond. No.                         19.0\n",
       "==============================================================================\n",
       "\n",
       "Notes:\n",
       "[1] Standard Errors assume that the covariance matrix of the errors is correctly specified.\n",
       "\"\"\""
      ]
     },
     "execution_count": 12,
     "metadata": {},
     "output_type": "execute_result"
    }
   ],
   "source": [
    "mdl_doors = smf.ols('Price~Doors',data=toyota_data).fit()\n",
    "mdl_doors.summary()"
   ]
  },
  {
   "cell_type": "code",
   "execution_count": 13,
   "metadata": {},
   "outputs": [
    {
     "data": {
      "text/plain": [
       "Intercept    1.094732e-73\n",
       "Doors        1.461237e-12\n",
       "dtype: float64"
      ]
     },
     "execution_count": 13,
     "metadata": {},
     "output_type": "execute_result"
    }
   ],
   "source": [
    "mdl_doors.pvalues"
   ]
  },
  {
   "cell_type": "code",
   "execution_count": 14,
   "metadata": {},
   "outputs": [
    {
     "data": {
      "text/html": [
       "<table class=\"simpletable\">\n",
       "<caption>OLS Regression Results</caption>\n",
       "<tr>\n",
       "  <th>Dep. Variable:</th>          <td>Price</td>      <th>  R-squared:         </th> <td>   0.047</td> \n",
       "</tr>\n",
       "<tr>\n",
       "  <th>Model:</th>                   <td>OLS</td>       <th>  Adj. R-squared:    </th> <td>   0.046</td> \n",
       "</tr>\n",
       "<tr>\n",
       "  <th>Method:</th>             <td>Least Squares</td>  <th>  F-statistic:       </th> <td>   35.24</td> \n",
       "</tr>\n",
       "<tr>\n",
       "  <th>Date:</th>             <td>Mon, 31 May 2021</td> <th>  Prob (F-statistic):</th> <td>1.15e-15</td> \n",
       "</tr>\n",
       "<tr>\n",
       "  <th>Time:</th>                 <td>12:45:00</td>     <th>  Log-Likelihood:    </th> <td> -13772.</td> \n",
       "</tr>\n",
       "<tr>\n",
       "  <th>No. Observations:</th>      <td>  1436</td>      <th>  AIC:               </th> <td>2.755e+04</td>\n",
       "</tr>\n",
       "<tr>\n",
       "  <th>Df Residuals:</th>          <td>  1433</td>      <th>  BIC:               </th> <td>2.757e+04</td>\n",
       "</tr>\n",
       "<tr>\n",
       "  <th>Df Model:</th>              <td>     2</td>      <th>                     </th>     <td> </td>    \n",
       "</tr>\n",
       "<tr>\n",
       "  <th>Covariance Type:</th>      <td>nonrobust</td>    <th>                     </th>     <td> </td>    \n",
       "</tr>\n",
       "</table>\n",
       "<table class=\"simpletable\">\n",
       "<tr>\n",
       "      <td></td>         <th>coef</th>     <th>std err</th>      <th>t</th>      <th>P>|t|</th>  <th>[0.025</th>    <th>0.975]</th>  \n",
       "</tr>\n",
       "<tr>\n",
       "  <th>Intercept</th> <td> 6509.4211</td> <td>  515.773</td> <td>   12.621</td> <td> 0.000</td> <td> 5497.670</td> <td> 7521.173</td>\n",
       "</tr>\n",
       "<tr>\n",
       "  <th>cc</th>        <td>    0.9597</td> <td>    0.221</td> <td>    4.340</td> <td> 0.000</td> <td>    0.526</td> <td>    1.393</td>\n",
       "</tr>\n",
       "<tr>\n",
       "  <th>Doors</th>     <td>  671.3973</td> <td>   98.501</td> <td>    6.816</td> <td> 0.000</td> <td>  478.176</td> <td>  864.619</td>\n",
       "</tr>\n",
       "</table>\n",
       "<table class=\"simpletable\">\n",
       "<tr>\n",
       "  <th>Omnibus:</th>       <td>448.845</td> <th>  Durbin-Watson:     </th> <td>   0.290</td> \n",
       "</tr>\n",
       "<tr>\n",
       "  <th>Prob(Omnibus):</th> <td> 0.000</td>  <th>  Jarque-Bera (JB):  </th> <td>1294.854</td> \n",
       "</tr>\n",
       "<tr>\n",
       "  <th>Skew:</th>          <td> 1.603</td>  <th>  Prob(JB):          </th> <td>6.70e-282</td>\n",
       "</tr>\n",
       "<tr>\n",
       "  <th>Kurtosis:</th>      <td> 6.370</td>  <th>  Cond. No.          </th> <td>9.09e+03</td> \n",
       "</tr>\n",
       "</table><br/><br/>Notes:<br/>[1] Standard Errors assume that the covariance matrix of the errors is correctly specified.<br/>[2] The condition number is large, 9.09e+03. This might indicate that there are<br/>strong multicollinearity or other numerical problems."
      ],
      "text/plain": [
       "<class 'statsmodels.iolib.summary.Summary'>\n",
       "\"\"\"\n",
       "                            OLS Regression Results                            \n",
       "==============================================================================\n",
       "Dep. Variable:                  Price   R-squared:                       0.047\n",
       "Model:                            OLS   Adj. R-squared:                  0.046\n",
       "Method:                 Least Squares   F-statistic:                     35.24\n",
       "Date:                Mon, 31 May 2021   Prob (F-statistic):           1.15e-15\n",
       "Time:                        12:45:00   Log-Likelihood:                -13772.\n",
       "No. Observations:                1436   AIC:                         2.755e+04\n",
       "Df Residuals:                    1433   BIC:                         2.757e+04\n",
       "Df Model:                           2                                         \n",
       "Covariance Type:            nonrobust                                         \n",
       "==============================================================================\n",
       "                 coef    std err          t      P>|t|      [0.025      0.975]\n",
       "------------------------------------------------------------------------------\n",
       "Intercept   6509.4211    515.773     12.621      0.000    5497.670    7521.173\n",
       "cc             0.9597      0.221      4.340      0.000       0.526       1.393\n",
       "Doors        671.3973     98.501      6.816      0.000     478.176     864.619\n",
       "==============================================================================\n",
       "Omnibus:                      448.845   Durbin-Watson:                   0.290\n",
       "Prob(Omnibus):                  0.000   Jarque-Bera (JB):             1294.854\n",
       "Skew:                           1.603   Prob(JB):                    6.70e-282\n",
       "Kurtosis:                       6.370   Cond. No.                     9.09e+03\n",
       "==============================================================================\n",
       "\n",
       "Notes:\n",
       "[1] Standard Errors assume that the covariance matrix of the errors is correctly specified.\n",
       "[2] The condition number is large, 9.09e+03. This might indicate that there are\n",
       "strong multicollinearity or other numerical problems.\n",
       "\"\"\""
      ]
     },
     "execution_count": 14,
     "metadata": {},
     "output_type": "execute_result"
    }
   ],
   "source": [
    "mdl_cc_doors = smf.ols('Price~cc+Doors',data=toyota_data).fit()\n",
    "mdl_cc_doors.summary()"
   ]
  },
  {
   "cell_type": "code",
   "execution_count": 15,
   "metadata": {},
   "outputs": [
    {
     "data": {
      "text/plain": [
       "Intercept    1.056885e-34\n",
       "cc           1.521992e-05\n",
       "Doors        1.373469e-11\n",
       "dtype: float64"
      ]
     },
     "execution_count": 15,
     "metadata": {},
     "output_type": "execute_result"
    }
   ],
   "source": [
    "mdl_cc_doors.pvalues"
   ]
  },
  {
   "cell_type": "code",
   "execution_count": 16,
   "metadata": {},
   "outputs": [
    {
     "data": {
      "text/plain": [
       "(0.8637627463428192, 24769.07664007625)"
      ]
     },
     "execution_count": 16,
     "metadata": {},
     "output_type": "execute_result"
    }
   ],
   "source": [
    "model.rsquared,model.aic"
   ]
  },
  {
   "cell_type": "code",
   "execution_count": 17,
   "metadata": {},
   "outputs": [
    {
     "data": {
      "text/plain": [
       "(0.817345037547313, 25186.11333931156)"
      ]
     },
     "execution_count": 17,
     "metadata": {},
     "output_type": "execute_result"
    }
   ],
   "source": [
    "model1 = smf.ols('Price~Age_08_04+KM+HP+cc+Doors+Gears',data=toyota_data).fit()\n",
    "model1.rsquared,model1.aic"
   ]
  },
  {
   "cell_type": "code",
   "execution_count": 18,
   "metadata": {},
   "outputs": [
    {
     "data": {
      "text/plain": [
       "(0.8637625904386813, 24767.078283372837)"
      ]
     },
     "execution_count": 18,
     "metadata": {},
     "output_type": "execute_result"
    }
   ],
   "source": [
    "model2 = smf.ols('Price~Age_08_04+KM+HP+cc+Gears+Quarterly_Tax+Weight',data=toyota_data).fit()\n",
    "model2.rsquared,model2.aic"
   ]
  },
  {
   "cell_type": "code",
   "execution_count": 19,
   "metadata": {},
   "outputs": [
    {
     "data": {
      "text/plain": [
       "(0.8628951602234526, 24776.19238098143)"
      ]
     },
     "execution_count": 19,
     "metadata": {},
     "output_type": "execute_result"
    }
   ],
   "source": [
    "model3 = smf.ols('Price~Age_08_04+KM+HP+cc+Doors+Gears+Weight',data=toyota_data).fit()\n",
    "model3.rsquared,model3.aic"
   ]
  },
  {
   "cell_type": "code",
   "execution_count": 20,
   "metadata": {},
   "outputs": [
    {
     "data": {
      "text/plain": [
       "(0.8635902364277144, 24768.893819473007)"
      ]
     },
     "execution_count": 20,
     "metadata": {},
     "output_type": "execute_result"
    }
   ],
   "source": [
    "model4 = smf.ols('Price~Age_08_04+KM+HP+Doors+Gears+Quarterly_Tax+Weight',data=toyota_data).fit()\n",
    "model4.rsquared,model4.aic"
   ]
  },
  {
   "cell_type": "code",
   "execution_count": 21,
   "metadata": {},
   "outputs": [
    {
     "data": {
      "text/html": [
       "<div>\n",
       "<style scoped>\n",
       "    .dataframe tbody tr th:only-of-type {\n",
       "        vertical-align: middle;\n",
       "    }\n",
       "\n",
       "    .dataframe tbody tr th {\n",
       "        vertical-align: top;\n",
       "    }\n",
       "\n",
       "    .dataframe thead th {\n",
       "        text-align: right;\n",
       "    }\n",
       "</style>\n",
       "<table border=\"1\" class=\"dataframe\">\n",
       "  <thead>\n",
       "    <tr style=\"text-align: right;\">\n",
       "      <th></th>\n",
       "      <th>model</th>\n",
       "      <th>rsquared</th>\n",
       "      <th>AIC</th>\n",
       "    </tr>\n",
       "  </thead>\n",
       "  <tbody>\n",
       "    <tr>\n",
       "      <th>0</th>\n",
       "      <td>all</td>\n",
       "      <td>0.863763</td>\n",
       "      <td>24769.076640</td>\n",
       "    </tr>\n",
       "    <tr>\n",
       "      <th>1</th>\n",
       "      <td>except tax,wgt</td>\n",
       "      <td>0.817345</td>\n",
       "      <td>25186.113339</td>\n",
       "    </tr>\n",
       "    <tr>\n",
       "      <th>2</th>\n",
       "      <td>except doors</td>\n",
       "      <td>0.863763</td>\n",
       "      <td>24767.078283</td>\n",
       "    </tr>\n",
       "    <tr>\n",
       "      <th>3</th>\n",
       "      <td>except qtr tax</td>\n",
       "      <td>0.862895</td>\n",
       "      <td>24776.192381</td>\n",
       "    </tr>\n",
       "    <tr>\n",
       "      <th>4</th>\n",
       "      <td>except cc</td>\n",
       "      <td>0.863590</td>\n",
       "      <td>24768.893819</td>\n",
       "    </tr>\n",
       "  </tbody>\n",
       "</table>\n",
       "</div>"
      ],
      "text/plain": [
       "            model  rsquared           AIC\n",
       "0             all  0.863763  24769.076640\n",
       "1  except tax,wgt  0.817345  25186.113339\n",
       "2    except doors  0.863763  24767.078283\n",
       "3  except qtr tax  0.862895  24776.192381\n",
       "4       except cc  0.863590  24768.893819"
      ]
     },
     "execution_count": 21,
     "metadata": {},
     "output_type": "execute_result"
    }
   ],
   "source": [
    "data = {\"model\":[\"all\",\"except tax,wgt\",\"except doors\",\"except qtr tax\",\"except cc\"],\n",
    "       \"rsquared\":[model.rsquared,model1.rsquared,model2.rsquared,model3.rsquared,model4.rsquared],\n",
    "        \"AIC\":[model.aic,model1.aic,model2.aic,model3.aic,model4.aic]\n",
    "       }\n",
    "\n",
    "table = pd.DataFrame(data)\n",
    "table"
   ]
  },
  {
   "cell_type": "code",
   "execution_count": 25,
   "metadata": {},
   "outputs": [
    {
     "data": {
      "text/html": [
       "<div>\n",
       "<style scoped>\n",
       "    .dataframe tbody tr th:only-of-type {\n",
       "        vertical-align: middle;\n",
       "    }\n",
       "\n",
       "    .dataframe tbody tr th {\n",
       "        vertical-align: top;\n",
       "    }\n",
       "\n",
       "    .dataframe thead th {\n",
       "        text-align: right;\n",
       "    }\n",
       "</style>\n",
       "<table border=\"1\" class=\"dataframe\">\n",
       "  <thead>\n",
       "    <tr style=\"text-align: right;\">\n",
       "      <th></th>\n",
       "      <th>Id</th>\n",
       "      <th>Price</th>\n",
       "      <th>Age_08_04</th>\n",
       "      <th>Mfg_Month</th>\n",
       "      <th>Mfg_Year</th>\n",
       "      <th>KM</th>\n",
       "      <th>HP</th>\n",
       "      <th>Met_Color</th>\n",
       "      <th>Automatic</th>\n",
       "      <th>cc</th>\n",
       "      <th>...</th>\n",
       "      <th>Central_Lock</th>\n",
       "      <th>Powered_Windows</th>\n",
       "      <th>Power_Steering</th>\n",
       "      <th>Radio</th>\n",
       "      <th>Mistlamps</th>\n",
       "      <th>Sport_Model</th>\n",
       "      <th>Backseat_Divider</th>\n",
       "      <th>Metallic_Rim</th>\n",
       "      <th>Radio_cassette</th>\n",
       "      <th>Tow_Bar</th>\n",
       "    </tr>\n",
       "  </thead>\n",
       "  <tbody>\n",
       "    <tr>\n",
       "      <th>Id</th>\n",
       "      <td>1.000000</td>\n",
       "      <td>-0.738250</td>\n",
       "      <td>0.906132</td>\n",
       "      <td>0.043742</td>\n",
       "      <td>-0.919523</td>\n",
       "      <td>0.273298</td>\n",
       "      <td>-0.109375</td>\n",
       "      <td>-0.079713</td>\n",
       "      <td>0.066265</td>\n",
       "      <td>-0.117704</td>\n",
       "      <td>...</td>\n",
       "      <td>-0.238940</td>\n",
       "      <td>-0.236723</td>\n",
       "      <td>-0.091587</td>\n",
       "      <td>-0.010971</td>\n",
       "      <td>-0.139708</td>\n",
       "      <td>-0.028704</td>\n",
       "      <td>-0.136398</td>\n",
       "      <td>-0.022232</td>\n",
       "      <td>-0.011611</td>\n",
       "      <td>0.159171</td>\n",
       "    </tr>\n",
       "    <tr>\n",
       "      <th>Price</th>\n",
       "      <td>-0.738250</td>\n",
       "      <td>1.000000</td>\n",
       "      <td>-0.876590</td>\n",
       "      <td>-0.018138</td>\n",
       "      <td>0.885159</td>\n",
       "      <td>-0.569960</td>\n",
       "      <td>0.314990</td>\n",
       "      <td>0.108905</td>\n",
       "      <td>0.033081</td>\n",
       "      <td>0.126389</td>\n",
       "      <td>...</td>\n",
       "      <td>0.343458</td>\n",
       "      <td>0.356518</td>\n",
       "      <td>0.064275</td>\n",
       "      <td>-0.041887</td>\n",
       "      <td>0.222083</td>\n",
       "      <td>0.164121</td>\n",
       "      <td>0.102569</td>\n",
       "      <td>0.108564</td>\n",
       "      <td>-0.043179</td>\n",
       "      <td>-0.172369</td>\n",
       "    </tr>\n",
       "    <tr>\n",
       "      <th>Age_08_04</th>\n",
       "      <td>0.906132</td>\n",
       "      <td>-0.876590</td>\n",
       "      <td>1.000000</td>\n",
       "      <td>-0.123255</td>\n",
       "      <td>-0.983661</td>\n",
       "      <td>0.505672</td>\n",
       "      <td>-0.156622</td>\n",
       "      <td>-0.108150</td>\n",
       "      <td>0.031717</td>\n",
       "      <td>-0.098084</td>\n",
       "      <td>...</td>\n",
       "      <td>-0.279631</td>\n",
       "      <td>-0.283856</td>\n",
       "      <td>-0.069192</td>\n",
       "      <td>0.013791</td>\n",
       "      <td>-0.126895</td>\n",
       "      <td>-0.110988</td>\n",
       "      <td>-0.116751</td>\n",
       "      <td>-0.040045</td>\n",
       "      <td>0.012857</td>\n",
       "      <td>0.188720</td>\n",
       "    </tr>\n",
       "    <tr>\n",
       "      <th>Mfg_Month</th>\n",
       "      <td>0.043742</td>\n",
       "      <td>-0.018138</td>\n",
       "      <td>-0.123255</td>\n",
       "      <td>1.000000</td>\n",
       "      <td>-0.057416</td>\n",
       "      <td>-0.020630</td>\n",
       "      <td>-0.039312</td>\n",
       "      <td>0.030266</td>\n",
       "      <td>0.009146</td>\n",
       "      <td>0.037387</td>\n",
       "      <td>...</td>\n",
       "      <td>0.010055</td>\n",
       "      <td>0.025185</td>\n",
       "      <td>-0.055495</td>\n",
       "      <td>0.031601</td>\n",
       "      <td>-0.033504</td>\n",
       "      <td>0.052789</td>\n",
       "      <td>0.023245</td>\n",
       "      <td>0.023506</td>\n",
       "      <td>0.032576</td>\n",
       "      <td>-0.042170</td>\n",
       "    </tr>\n",
       "    <tr>\n",
       "      <th>Mfg_Year</th>\n",
       "      <td>-0.919523</td>\n",
       "      <td>0.885159</td>\n",
       "      <td>-0.983661</td>\n",
       "      <td>-0.057416</td>\n",
       "      <td>1.000000</td>\n",
       "      <td>-0.504974</td>\n",
       "      <td>0.164697</td>\n",
       "      <td>0.103310</td>\n",
       "      <td>-0.033567</td>\n",
       "      <td>0.091892</td>\n",
       "      <td>...</td>\n",
       "      <td>0.279490</td>\n",
       "      <td>0.280996</td>\n",
       "      <td>0.079676</td>\n",
       "      <td>-0.019607</td>\n",
       "      <td>0.133737</td>\n",
       "      <td>0.102080</td>\n",
       "      <td>0.113237</td>\n",
       "      <td>0.036022</td>\n",
       "      <td>-0.018844</td>\n",
       "      <td>-0.182206</td>\n",
       "    </tr>\n",
       "    <tr>\n",
       "      <th>KM</th>\n",
       "      <td>0.273298</td>\n",
       "      <td>-0.569960</td>\n",
       "      <td>0.505672</td>\n",
       "      <td>-0.020630</td>\n",
       "      <td>-0.504974</td>\n",
       "      <td>1.000000</td>\n",
       "      <td>-0.333538</td>\n",
       "      <td>-0.080503</td>\n",
       "      <td>-0.081854</td>\n",
       "      <td>0.102683</td>\n",
       "      <td>...</td>\n",
       "      <td>-0.125177</td>\n",
       "      <td>-0.156242</td>\n",
       "      <td>0.007397</td>\n",
       "      <td>0.013661</td>\n",
       "      <td>-0.074327</td>\n",
       "      <td>-0.044784</td>\n",
       "      <td>-0.045658</td>\n",
       "      <td>-0.013599</td>\n",
       "      <td>0.015770</td>\n",
       "      <td>0.084153</td>\n",
       "    </tr>\n",
       "    <tr>\n",
       "      <th>HP</th>\n",
       "      <td>-0.109375</td>\n",
       "      <td>0.314990</td>\n",
       "      <td>-0.156622</td>\n",
       "      <td>-0.039312</td>\n",
       "      <td>0.164697</td>\n",
       "      <td>-0.333538</td>\n",
       "      <td>1.000000</td>\n",
       "      <td>0.058712</td>\n",
       "      <td>0.013144</td>\n",
       "      <td>0.035856</td>\n",
       "      <td>...</td>\n",
       "      <td>0.250122</td>\n",
       "      <td>0.265593</td>\n",
       "      <td>0.048850</td>\n",
       "      <td>0.020998</td>\n",
       "      <td>0.210571</td>\n",
       "      <td>-0.006027</td>\n",
       "      <td>0.010908</td>\n",
       "      <td>0.206784</td>\n",
       "      <td>0.019919</td>\n",
       "      <td>0.068271</td>\n",
       "    </tr>\n",
       "    <tr>\n",
       "      <th>Met_Color</th>\n",
       "      <td>-0.079713</td>\n",
       "      <td>0.108905</td>\n",
       "      <td>-0.108150</td>\n",
       "      <td>0.030266</td>\n",
       "      <td>0.103310</td>\n",
       "      <td>-0.080503</td>\n",
       "      <td>0.058712</td>\n",
       "      <td>1.000000</td>\n",
       "      <td>-0.019335</td>\n",
       "      <td>0.031812</td>\n",
       "      <td>...</td>\n",
       "      <td>0.153307</td>\n",
       "      <td>0.145147</td>\n",
       "      <td>0.086544</td>\n",
       "      <td>0.072756</td>\n",
       "      <td>0.023821</td>\n",
       "      <td>0.003779</td>\n",
       "      <td>0.037741</td>\n",
       "      <td>0.053829</td>\n",
       "      <td>0.071530</td>\n",
       "      <td>0.148536</td>\n",
       "    </tr>\n",
       "    <tr>\n",
       "      <th>Automatic</th>\n",
       "      <td>0.066265</td>\n",
       "      <td>0.033081</td>\n",
       "      <td>0.031717</td>\n",
       "      <td>0.009146</td>\n",
       "      <td>-0.033567</td>\n",
       "      <td>-0.081854</td>\n",
       "      <td>0.013144</td>\n",
       "      <td>-0.019335</td>\n",
       "      <td>1.000000</td>\n",
       "      <td>0.066740</td>\n",
       "      <td>...</td>\n",
       "      <td>-0.002502</td>\n",
       "      <td>-0.005864</td>\n",
       "      <td>-0.004469</td>\n",
       "      <td>-0.014600</td>\n",
       "      <td>0.003077</td>\n",
       "      <td>0.013175</td>\n",
       "      <td>-0.018876</td>\n",
       "      <td>-0.078095</td>\n",
       "      <td>-0.014150</td>\n",
       "      <td>0.018786</td>\n",
       "    </tr>\n",
       "    <tr>\n",
       "      <th>cc</th>\n",
       "      <td>-0.117704</td>\n",
       "      <td>0.126389</td>\n",
       "      <td>-0.098084</td>\n",
       "      <td>0.037387</td>\n",
       "      <td>0.091892</td>\n",
       "      <td>0.102683</td>\n",
       "      <td>0.035856</td>\n",
       "      <td>0.031812</td>\n",
       "      <td>0.066740</td>\n",
       "      <td>1.000000</td>\n",
       "      <td>...</td>\n",
       "      <td>0.072634</td>\n",
       "      <td>0.055299</td>\n",
       "      <td>0.032933</td>\n",
       "      <td>-0.000361</td>\n",
       "      <td>0.017326</td>\n",
       "      <td>-0.035195</td>\n",
       "      <td>-0.055711</td>\n",
       "      <td>0.003236</td>\n",
       "      <td>-0.000470</td>\n",
       "      <td>0.002725</td>\n",
       "    </tr>\n",
       "    <tr>\n",
       "      <th>Doors</th>\n",
       "      <td>-0.130207</td>\n",
       "      <td>0.185326</td>\n",
       "      <td>-0.148359</td>\n",
       "      <td>-0.012069</td>\n",
       "      <td>0.151442</td>\n",
       "      <td>-0.036197</td>\n",
       "      <td>0.092424</td>\n",
       "      <td>0.085243</td>\n",
       "      <td>-0.027654</td>\n",
       "      <td>0.079903</td>\n",
       "      <td>...</td>\n",
       "      <td>0.132092</td>\n",
       "      <td>0.107626</td>\n",
       "      <td>0.059792</td>\n",
       "      <td>-0.008318</td>\n",
       "      <td>0.064705</td>\n",
       "      <td>-0.129881</td>\n",
       "      <td>-0.022542</td>\n",
       "      <td>-0.039555</td>\n",
       "      <td>-0.008265</td>\n",
       "      <td>0.102292</td>\n",
       "    </tr>\n",
       "    <tr>\n",
       "      <th>Cylinders</th>\n",
       "      <td>NaN</td>\n",
       "      <td>NaN</td>\n",
       "      <td>NaN</td>\n",
       "      <td>NaN</td>\n",
       "      <td>NaN</td>\n",
       "      <td>NaN</td>\n",
       "      <td>NaN</td>\n",
       "      <td>NaN</td>\n",
       "      <td>NaN</td>\n",
       "      <td>NaN</td>\n",
       "      <td>...</td>\n",
       "      <td>NaN</td>\n",
       "      <td>NaN</td>\n",
       "      <td>NaN</td>\n",
       "      <td>NaN</td>\n",
       "      <td>NaN</td>\n",
       "      <td>NaN</td>\n",
       "      <td>NaN</td>\n",
       "      <td>NaN</td>\n",
       "      <td>NaN</td>\n",
       "      <td>NaN</td>\n",
       "    </tr>\n",
       "    <tr>\n",
       "      <th>Gears</th>\n",
       "      <td>-0.043343</td>\n",
       "      <td>0.063104</td>\n",
       "      <td>-0.005364</td>\n",
       "      <td>-0.013063</td>\n",
       "      <td>0.007766</td>\n",
       "      <td>0.015023</td>\n",
       "      <td>0.209477</td>\n",
       "      <td>0.018601</td>\n",
       "      <td>-0.098555</td>\n",
       "      <td>0.014629</td>\n",
       "      <td>...</td>\n",
       "      <td>0.126964</td>\n",
       "      <td>0.131423</td>\n",
       "      <td>0.021200</td>\n",
       "      <td>0.015090</td>\n",
       "      <td>0.238789</td>\n",
       "      <td>0.174117</td>\n",
       "      <td>0.076705</td>\n",
       "      <td>0.295077</td>\n",
       "      <td>0.015397</td>\n",
       "      <td>-0.029357</td>\n",
       "    </tr>\n",
       "    <tr>\n",
       "      <th>Quarterly_Tax</th>\n",
       "      <td>-0.240821</td>\n",
       "      <td>0.219197</td>\n",
       "      <td>-0.198431</td>\n",
       "      <td>0.031373</td>\n",
       "      <td>0.193934</td>\n",
       "      <td>0.278165</td>\n",
       "      <td>-0.298432</td>\n",
       "      <td>0.011326</td>\n",
       "      <td>-0.055371</td>\n",
       "      <td>0.306996</td>\n",
       "      <td>...</td>\n",
       "      <td>0.032084</td>\n",
       "      <td>0.003827</td>\n",
       "      <td>0.047956</td>\n",
       "      <td>-0.031816</td>\n",
       "      <td>0.024024</td>\n",
       "      <td>0.067525</td>\n",
       "      <td>0.198419</td>\n",
       "      <td>-0.011965</td>\n",
       "      <td>-0.031009</td>\n",
       "      <td>-0.004988</td>\n",
       "    </tr>\n",
       "    <tr>\n",
       "      <th>Weight</th>\n",
       "      <td>-0.414500</td>\n",
       "      <td>0.581198</td>\n",
       "      <td>-0.470253</td>\n",
       "      <td>-0.002167</td>\n",
       "      <td>0.473478</td>\n",
       "      <td>-0.028598</td>\n",
       "      <td>0.089614</td>\n",
       "      <td>0.057929</td>\n",
       "      <td>0.057249</td>\n",
       "      <td>0.335637</td>\n",
       "      <td>...</td>\n",
       "      <td>0.234644</td>\n",
       "      <td>0.213356</td>\n",
       "      <td>0.047849</td>\n",
       "      <td>-0.038407</td>\n",
       "      <td>0.135236</td>\n",
       "      <td>0.125974</td>\n",
       "      <td>0.036446</td>\n",
       "      <td>0.053847</td>\n",
       "      <td>-0.037265</td>\n",
       "      <td>-0.074932</td>\n",
       "    </tr>\n",
       "    <tr>\n",
       "      <th>Mfr_Guarantee</th>\n",
       "      <td>-0.162006</td>\n",
       "      <td>0.197802</td>\n",
       "      <td>-0.164658</td>\n",
       "      <td>-0.005771</td>\n",
       "      <td>0.166697</td>\n",
       "      <td>-0.212851</td>\n",
       "      <td>0.140026</td>\n",
       "      <td>0.154850</td>\n",
       "      <td>0.026194</td>\n",
       "      <td>-0.057407</td>\n",
       "      <td>...</td>\n",
       "      <td>0.039915</td>\n",
       "      <td>0.041551</td>\n",
       "      <td>0.029771</td>\n",
       "      <td>-0.052058</td>\n",
       "      <td>0.083958</td>\n",
       "      <td>0.054129</td>\n",
       "      <td>0.256249</td>\n",
       "      <td>0.026728</td>\n",
       "      <td>-0.054532</td>\n",
       "      <td>-0.023328</td>\n",
       "    </tr>\n",
       "    <tr>\n",
       "      <th>BOVAG_Guarantee</th>\n",
       "      <td>-0.015065</td>\n",
       "      <td>0.028133</td>\n",
       "      <td>0.006865</td>\n",
       "      <td>-0.003863</td>\n",
       "      <td>-0.006206</td>\n",
       "      <td>0.001438</td>\n",
       "      <td>0.022701</td>\n",
       "      <td>0.010783</td>\n",
       "      <td>0.023393</td>\n",
       "      <td>-0.081725</td>\n",
       "      <td>...</td>\n",
       "      <td>-0.023008</td>\n",
       "      <td>-0.012406</td>\n",
       "      <td>0.164392</td>\n",
       "      <td>-0.039075</td>\n",
       "      <td>0.117472</td>\n",
       "      <td>0.173978</td>\n",
       "      <td>0.457468</td>\n",
       "      <td>0.060434</td>\n",
       "      <td>-0.039827</td>\n",
       "      <td>-0.006718</td>\n",
       "    </tr>\n",
       "    <tr>\n",
       "      <th>Guarantee_Period</th>\n",
       "      <td>-0.086256</td>\n",
       "      <td>0.146627</td>\n",
       "      <td>-0.152563</td>\n",
       "      <td>0.029010</td>\n",
       "      <td>0.148218</td>\n",
       "      <td>-0.138942</td>\n",
       "      <td>0.076163</td>\n",
       "      <td>0.009295</td>\n",
       "      <td>-0.002256</td>\n",
       "      <td>-0.017683</td>\n",
       "      <td>...</td>\n",
       "      <td>0.058934</td>\n",
       "      <td>0.040534</td>\n",
       "      <td>-0.118974</td>\n",
       "      <td>0.198886</td>\n",
       "      <td>-0.118021</td>\n",
       "      <td>-0.172874</td>\n",
       "      <td>-0.484427</td>\n",
       "      <td>-0.044003</td>\n",
       "      <td>0.193910</td>\n",
       "      <td>0.008590</td>\n",
       "    </tr>\n",
       "    <tr>\n",
       "      <th>ABS</th>\n",
       "      <td>-0.461437</td>\n",
       "      <td>0.306138</td>\n",
       "      <td>-0.412887</td>\n",
       "      <td>0.072532</td>\n",
       "      <td>0.402215</td>\n",
       "      <td>-0.177203</td>\n",
       "      <td>0.057832</td>\n",
       "      <td>0.022298</td>\n",
       "      <td>-0.016128</td>\n",
       "      <td>0.037806</td>\n",
       "      <td>...</td>\n",
       "      <td>0.099454</td>\n",
       "      <td>0.099465</td>\n",
       "      <td>0.254626</td>\n",
       "      <td>-0.054670</td>\n",
       "      <td>0.179433</td>\n",
       "      <td>0.200596</td>\n",
       "      <td>0.256659</td>\n",
       "      <td>0.079152</td>\n",
       "      <td>-0.055724</td>\n",
       "      <td>-0.065976</td>\n",
       "    </tr>\n",
       "    <tr>\n",
       "      <th>Airbag_1</th>\n",
       "      <td>-0.123465</td>\n",
       "      <td>0.093588</td>\n",
       "      <td>-0.105406</td>\n",
       "      <td>0.003756</td>\n",
       "      <td>0.105359</td>\n",
       "      <td>-0.018012</td>\n",
       "      <td>0.025137</td>\n",
       "      <td>0.100055</td>\n",
       "      <td>-0.011895</td>\n",
       "      <td>0.022678</td>\n",
       "      <td>...</td>\n",
       "      <td>0.120276</td>\n",
       "      <td>0.121641</td>\n",
       "      <td>0.561770</td>\n",
       "      <td>-0.010035</td>\n",
       "      <td>0.092618</td>\n",
       "      <td>0.113671</td>\n",
       "      <td>0.307947</td>\n",
       "      <td>0.057345</td>\n",
       "      <td>-0.022117</td>\n",
       "      <td>0.052312</td>\n",
       "    </tr>\n",
       "    <tr>\n",
       "      <th>Airbag_2</th>\n",
       "      <td>-0.358316</td>\n",
       "      <td>0.248974</td>\n",
       "      <td>-0.329017</td>\n",
       "      <td>0.076749</td>\n",
       "      <td>0.317075</td>\n",
       "      <td>-0.139275</td>\n",
       "      <td>0.017644</td>\n",
       "      <td>0.038416</td>\n",
       "      <td>0.001171</td>\n",
       "      <td>0.024738</td>\n",
       "      <td>...</td>\n",
       "      <td>0.024819</td>\n",
       "      <td>0.049129</td>\n",
       "      <td>0.212187</td>\n",
       "      <td>-0.223663</td>\n",
       "      <td>0.228843</td>\n",
       "      <td>0.300274</td>\n",
       "      <td>0.589987</td>\n",
       "      <td>0.075128</td>\n",
       "      <td>-0.220917</td>\n",
       "      <td>-0.063956</td>\n",
       "    </tr>\n",
       "    <tr>\n",
       "      <th>Airco</th>\n",
       "      <td>-0.386207</td>\n",
       "      <td>0.429259</td>\n",
       "      <td>-0.403600</td>\n",
       "      <td>0.057088</td>\n",
       "      <td>0.395674</td>\n",
       "      <td>-0.133057</td>\n",
       "      <td>0.241134</td>\n",
       "      <td>0.114190</td>\n",
       "      <td>-0.028353</td>\n",
       "      <td>0.119888</td>\n",
       "      <td>...</td>\n",
       "      <td>0.540588</td>\n",
       "      <td>0.543982</td>\n",
       "      <td>0.096893</td>\n",
       "      <td>-0.030571</td>\n",
       "      <td>0.466751</td>\n",
       "      <td>0.002730</td>\n",
       "      <td>0.105149</td>\n",
       "      <td>0.233166</td>\n",
       "      <td>-0.036524</td>\n",
       "      <td>-0.024362</td>\n",
       "    </tr>\n",
       "    <tr>\n",
       "      <th>Automatic_airco</th>\n",
       "      <td>-0.327468</td>\n",
       "      <td>0.588262</td>\n",
       "      <td>-0.426259</td>\n",
       "      <td>-0.049017</td>\n",
       "      <td>0.437718</td>\n",
       "      <td>-0.258221</td>\n",
       "      <td>0.244957</td>\n",
       "      <td>0.027977</td>\n",
       "      <td>0.059057</td>\n",
       "      <td>0.162669</td>\n",
       "      <td>...</td>\n",
       "      <td>0.195790</td>\n",
       "      <td>0.203687</td>\n",
       "      <td>0.036912</td>\n",
       "      <td>-0.092647</td>\n",
       "      <td>0.312141</td>\n",
       "      <td>0.215287</td>\n",
       "      <td>0.018756</td>\n",
       "      <td>0.100363</td>\n",
       "      <td>-0.092348</td>\n",
       "      <td>-0.117967</td>\n",
       "    </tr>\n",
       "    <tr>\n",
       "      <th>Boardcomputer</th>\n",
       "      <td>-0.695207</td>\n",
       "      <td>0.601292</td>\n",
       "      <td>-0.719449</td>\n",
       "      <td>0.017715</td>\n",
       "      <td>0.720567</td>\n",
       "      <td>-0.353862</td>\n",
       "      <td>0.129715</td>\n",
       "      <td>0.089886</td>\n",
       "      <td>-0.037069</td>\n",
       "      <td>0.009312</td>\n",
       "      <td>...</td>\n",
       "      <td>0.203126</td>\n",
       "      <td>0.213327</td>\n",
       "      <td>0.087207</td>\n",
       "      <td>-0.129094</td>\n",
       "      <td>0.147900</td>\n",
       "      <td>0.036802</td>\n",
       "      <td>0.287615</td>\n",
       "      <td>-0.024999</td>\n",
       "      <td>-0.128073</td>\n",
       "      <td>-0.128001</td>\n",
       "    </tr>\n",
       "    <tr>\n",
       "      <th>CD_Player</th>\n",
       "      <td>-0.464520</td>\n",
       "      <td>0.481374</td>\n",
       "      <td>-0.510895</td>\n",
       "      <td>-0.016736</td>\n",
       "      <td>0.517008</td>\n",
       "      <td>-0.266826</td>\n",
       "      <td>0.102300</td>\n",
       "      <td>0.198220</td>\n",
       "      <td>-0.010967</td>\n",
       "      <td>0.057787</td>\n",
       "      <td>...</td>\n",
       "      <td>0.194076</td>\n",
       "      <td>0.195386</td>\n",
       "      <td>0.068452</td>\n",
       "      <td>-0.185568</td>\n",
       "      <td>0.124589</td>\n",
       "      <td>0.057920</td>\n",
       "      <td>0.148806</td>\n",
       "      <td>0.044730</td>\n",
       "      <td>-0.189668</td>\n",
       "      <td>-0.079911</td>\n",
       "    </tr>\n",
       "    <tr>\n",
       "      <th>Central_Lock</th>\n",
       "      <td>-0.238940</td>\n",
       "      <td>0.343458</td>\n",
       "      <td>-0.279631</td>\n",
       "      <td>0.010055</td>\n",
       "      <td>0.279490</td>\n",
       "      <td>-0.125177</td>\n",
       "      <td>0.250122</td>\n",
       "      <td>0.153307</td>\n",
       "      <td>-0.002502</td>\n",
       "      <td>0.072634</td>\n",
       "      <td>...</td>\n",
       "      <td>1.000000</td>\n",
       "      <td>0.875552</td>\n",
       "      <td>0.129646</td>\n",
       "      <td>-0.011251</td>\n",
       "      <td>0.487426</td>\n",
       "      <td>-0.003128</td>\n",
       "      <td>0.058449</td>\n",
       "      <td>0.281334</td>\n",
       "      <td>-0.016954</td>\n",
       "      <td>-0.007728</td>\n",
       "    </tr>\n",
       "    <tr>\n",
       "      <th>Powered_Windows</th>\n",
       "      <td>-0.236723</td>\n",
       "      <td>0.356518</td>\n",
       "      <td>-0.283856</td>\n",
       "      <td>0.025185</td>\n",
       "      <td>0.280996</td>\n",
       "      <td>-0.156242</td>\n",
       "      <td>0.265593</td>\n",
       "      <td>0.145147</td>\n",
       "      <td>-0.005864</td>\n",
       "      <td>0.055299</td>\n",
       "      <td>...</td>\n",
       "      <td>0.875552</td>\n",
       "      <td>1.000000</td>\n",
       "      <td>0.123458</td>\n",
       "      <td>-0.035811</td>\n",
       "      <td>0.496697</td>\n",
       "      <td>-0.000650</td>\n",
       "      <td>0.078244</td>\n",
       "      <td>0.291419</td>\n",
       "      <td>-0.037626</td>\n",
       "      <td>-0.013252</td>\n",
       "    </tr>\n",
       "    <tr>\n",
       "      <th>Power_Steering</th>\n",
       "      <td>-0.091587</td>\n",
       "      <td>0.064275</td>\n",
       "      <td>-0.069192</td>\n",
       "      <td>-0.055495</td>\n",
       "      <td>0.079676</td>\n",
       "      <td>0.007397</td>\n",
       "      <td>0.048850</td>\n",
       "      <td>0.086544</td>\n",
       "      <td>-0.004469</td>\n",
       "      <td>0.032933</td>\n",
       "      <td>...</td>\n",
       "      <td>0.129646</td>\n",
       "      <td>0.123458</td>\n",
       "      <td>1.000000</td>\n",
       "      <td>0.009075</td>\n",
       "      <td>0.077985</td>\n",
       "      <td>0.098866</td>\n",
       "      <td>0.265169</td>\n",
       "      <td>0.053217</td>\n",
       "      <td>-0.004584</td>\n",
       "      <td>0.030453</td>\n",
       "    </tr>\n",
       "    <tr>\n",
       "      <th>Radio</th>\n",
       "      <td>-0.010971</td>\n",
       "      <td>-0.041887</td>\n",
       "      <td>0.013791</td>\n",
       "      <td>0.031601</td>\n",
       "      <td>-0.019607</td>\n",
       "      <td>0.013661</td>\n",
       "      <td>0.020998</td>\n",
       "      <td>0.072756</td>\n",
       "      <td>-0.014600</td>\n",
       "      <td>-0.000361</td>\n",
       "      <td>...</td>\n",
       "      <td>-0.011251</td>\n",
       "      <td>-0.035811</td>\n",
       "      <td>0.009075</td>\n",
       "      <td>1.000000</td>\n",
       "      <td>-0.126118</td>\n",
       "      <td>-0.137729</td>\n",
       "      <td>-0.209590</td>\n",
       "      <td>-0.034162</td>\n",
       "      <td>0.991621</td>\n",
       "      <td>0.143652</td>\n",
       "    </tr>\n",
       "    <tr>\n",
       "      <th>Mistlamps</th>\n",
       "      <td>-0.139708</td>\n",
       "      <td>0.222083</td>\n",
       "      <td>-0.126895</td>\n",
       "      <td>-0.033504</td>\n",
       "      <td>0.133737</td>\n",
       "      <td>-0.074327</td>\n",
       "      <td>0.210571</td>\n",
       "      <td>0.023821</td>\n",
       "      <td>0.003077</td>\n",
       "      <td>0.017326</td>\n",
       "      <td>...</td>\n",
       "      <td>0.487426</td>\n",
       "      <td>0.496697</td>\n",
       "      <td>0.077985</td>\n",
       "      <td>-0.126118</td>\n",
       "      <td>1.000000</td>\n",
       "      <td>0.004342</td>\n",
       "      <td>0.245463</td>\n",
       "      <td>0.412545</td>\n",
       "      <td>-0.134245</td>\n",
       "      <td>-0.069479</td>\n",
       "    </tr>\n",
       "    <tr>\n",
       "      <th>Sport_Model</th>\n",
       "      <td>-0.028704</td>\n",
       "      <td>0.164121</td>\n",
       "      <td>-0.110988</td>\n",
       "      <td>0.052789</td>\n",
       "      <td>0.102080</td>\n",
       "      <td>-0.044784</td>\n",
       "      <td>-0.006027</td>\n",
       "      <td>0.003779</td>\n",
       "      <td>0.013175</td>\n",
       "      <td>-0.035195</td>\n",
       "      <td>...</td>\n",
       "      <td>-0.003128</td>\n",
       "      <td>-0.000650</td>\n",
       "      <td>0.098866</td>\n",
       "      <td>-0.137729</td>\n",
       "      <td>0.004342</td>\n",
       "      <td>1.000000</td>\n",
       "      <td>0.357713</td>\n",
       "      <td>0.051810</td>\n",
       "      <td>-0.136708</td>\n",
       "      <td>-0.094147</td>\n",
       "    </tr>\n",
       "    <tr>\n",
       "      <th>Backseat_Divider</th>\n",
       "      <td>-0.136398</td>\n",
       "      <td>0.102569</td>\n",
       "      <td>-0.116751</td>\n",
       "      <td>0.023245</td>\n",
       "      <td>0.113237</td>\n",
       "      <td>-0.045658</td>\n",
       "      <td>0.010908</td>\n",
       "      <td>0.037741</td>\n",
       "      <td>-0.018876</td>\n",
       "      <td>-0.055711</td>\n",
       "      <td>...</td>\n",
       "      <td>0.058449</td>\n",
       "      <td>0.078244</td>\n",
       "      <td>0.265169</td>\n",
       "      <td>-0.209590</td>\n",
       "      <td>0.245463</td>\n",
       "      <td>0.357713</td>\n",
       "      <td>1.000000</td>\n",
       "      <td>0.104862</td>\n",
       "      <td>-0.206390</td>\n",
       "      <td>-0.049176</td>\n",
       "    </tr>\n",
       "    <tr>\n",
       "      <th>Metallic_Rim</th>\n",
       "      <td>-0.022232</td>\n",
       "      <td>0.108564</td>\n",
       "      <td>-0.040045</td>\n",
       "      <td>0.023506</td>\n",
       "      <td>0.036022</td>\n",
       "      <td>-0.013599</td>\n",
       "      <td>0.206784</td>\n",
       "      <td>0.053829</td>\n",
       "      <td>-0.078095</td>\n",
       "      <td>0.003236</td>\n",
       "      <td>...</td>\n",
       "      <td>0.281334</td>\n",
       "      <td>0.291419</td>\n",
       "      <td>0.053217</td>\n",
       "      <td>-0.034162</td>\n",
       "      <td>0.412545</td>\n",
       "      <td>0.051810</td>\n",
       "      <td>0.104862</td>\n",
       "      <td>1.000000</td>\n",
       "      <td>-0.033228</td>\n",
       "      <td>-0.037331</td>\n",
       "    </tr>\n",
       "    <tr>\n",
       "      <th>Radio_cassette</th>\n",
       "      <td>-0.011611</td>\n",
       "      <td>-0.043179</td>\n",
       "      <td>0.012857</td>\n",
       "      <td>0.032576</td>\n",
       "      <td>-0.018844</td>\n",
       "      <td>0.015770</td>\n",
       "      <td>0.019919</td>\n",
       "      <td>0.071530</td>\n",
       "      <td>-0.014150</td>\n",
       "      <td>-0.000470</td>\n",
       "      <td>...</td>\n",
       "      <td>-0.016954</td>\n",
       "      <td>-0.037626</td>\n",
       "      <td>-0.004584</td>\n",
       "      <td>0.991621</td>\n",
       "      <td>-0.134245</td>\n",
       "      <td>-0.136708</td>\n",
       "      <td>-0.206390</td>\n",
       "      <td>-0.033228</td>\n",
       "      <td>1.000000</td>\n",
       "      <td>0.140753</td>\n",
       "    </tr>\n",
       "    <tr>\n",
       "      <th>Tow_Bar</th>\n",
       "      <td>0.159171</td>\n",
       "      <td>-0.172369</td>\n",
       "      <td>0.188720</td>\n",
       "      <td>-0.042170</td>\n",
       "      <td>-0.182206</td>\n",
       "      <td>0.084153</td>\n",
       "      <td>0.068271</td>\n",
       "      <td>0.148536</td>\n",
       "      <td>0.018786</td>\n",
       "      <td>0.002725</td>\n",
       "      <td>...</td>\n",
       "      <td>-0.007728</td>\n",
       "      <td>-0.013252</td>\n",
       "      <td>0.030453</td>\n",
       "      <td>0.143652</td>\n",
       "      <td>-0.069479</td>\n",
       "      <td>-0.094147</td>\n",
       "      <td>-0.049176</td>\n",
       "      <td>-0.037331</td>\n",
       "      <td>0.140753</td>\n",
       "      <td>1.000000</td>\n",
       "    </tr>\n",
       "  </tbody>\n",
       "</table>\n",
       "<p>35 rows × 35 columns</p>\n",
       "</div>"
      ],
      "text/plain": [
       "                        Id     Price  Age_08_04  Mfg_Month  Mfg_Year  \\\n",
       "Id                1.000000 -0.738250   0.906132   0.043742 -0.919523   \n",
       "Price            -0.738250  1.000000  -0.876590  -0.018138  0.885159   \n",
       "Age_08_04         0.906132 -0.876590   1.000000  -0.123255 -0.983661   \n",
       "Mfg_Month         0.043742 -0.018138  -0.123255   1.000000 -0.057416   \n",
       "Mfg_Year         -0.919523  0.885159  -0.983661  -0.057416  1.000000   \n",
       "KM                0.273298 -0.569960   0.505672  -0.020630 -0.504974   \n",
       "HP               -0.109375  0.314990  -0.156622  -0.039312  0.164697   \n",
       "Met_Color        -0.079713  0.108905  -0.108150   0.030266  0.103310   \n",
       "Automatic         0.066265  0.033081   0.031717   0.009146 -0.033567   \n",
       "cc               -0.117704  0.126389  -0.098084   0.037387  0.091892   \n",
       "Doors            -0.130207  0.185326  -0.148359  -0.012069  0.151442   \n",
       "Cylinders              NaN       NaN        NaN        NaN       NaN   \n",
       "Gears            -0.043343  0.063104  -0.005364  -0.013063  0.007766   \n",
       "Quarterly_Tax    -0.240821  0.219197  -0.198431   0.031373  0.193934   \n",
       "Weight           -0.414500  0.581198  -0.470253  -0.002167  0.473478   \n",
       "Mfr_Guarantee    -0.162006  0.197802  -0.164658  -0.005771  0.166697   \n",
       "BOVAG_Guarantee  -0.015065  0.028133   0.006865  -0.003863 -0.006206   \n",
       "Guarantee_Period -0.086256  0.146627  -0.152563   0.029010  0.148218   \n",
       "ABS              -0.461437  0.306138  -0.412887   0.072532  0.402215   \n",
       "Airbag_1         -0.123465  0.093588  -0.105406   0.003756  0.105359   \n",
       "Airbag_2         -0.358316  0.248974  -0.329017   0.076749  0.317075   \n",
       "Airco            -0.386207  0.429259  -0.403600   0.057088  0.395674   \n",
       "Automatic_airco  -0.327468  0.588262  -0.426259  -0.049017  0.437718   \n",
       "Boardcomputer    -0.695207  0.601292  -0.719449   0.017715  0.720567   \n",
       "CD_Player        -0.464520  0.481374  -0.510895  -0.016736  0.517008   \n",
       "Central_Lock     -0.238940  0.343458  -0.279631   0.010055  0.279490   \n",
       "Powered_Windows  -0.236723  0.356518  -0.283856   0.025185  0.280996   \n",
       "Power_Steering   -0.091587  0.064275  -0.069192  -0.055495  0.079676   \n",
       "Radio            -0.010971 -0.041887   0.013791   0.031601 -0.019607   \n",
       "Mistlamps        -0.139708  0.222083  -0.126895  -0.033504  0.133737   \n",
       "Sport_Model      -0.028704  0.164121  -0.110988   0.052789  0.102080   \n",
       "Backseat_Divider -0.136398  0.102569  -0.116751   0.023245  0.113237   \n",
       "Metallic_Rim     -0.022232  0.108564  -0.040045   0.023506  0.036022   \n",
       "Radio_cassette   -0.011611 -0.043179   0.012857   0.032576 -0.018844   \n",
       "Tow_Bar           0.159171 -0.172369   0.188720  -0.042170 -0.182206   \n",
       "\n",
       "                        KM        HP  Met_Color  Automatic        cc  ...  \\\n",
       "Id                0.273298 -0.109375  -0.079713   0.066265 -0.117704  ...   \n",
       "Price            -0.569960  0.314990   0.108905   0.033081  0.126389  ...   \n",
       "Age_08_04         0.505672 -0.156622  -0.108150   0.031717 -0.098084  ...   \n",
       "Mfg_Month        -0.020630 -0.039312   0.030266   0.009146  0.037387  ...   \n",
       "Mfg_Year         -0.504974  0.164697   0.103310  -0.033567  0.091892  ...   \n",
       "KM                1.000000 -0.333538  -0.080503  -0.081854  0.102683  ...   \n",
       "HP               -0.333538  1.000000   0.058712   0.013144  0.035856  ...   \n",
       "Met_Color        -0.080503  0.058712   1.000000  -0.019335  0.031812  ...   \n",
       "Automatic        -0.081854  0.013144  -0.019335   1.000000  0.066740  ...   \n",
       "cc                0.102683  0.035856   0.031812   0.066740  1.000000  ...   \n",
       "Doors            -0.036197  0.092424   0.085243  -0.027654  0.079903  ...   \n",
       "Cylinders              NaN       NaN        NaN        NaN       NaN  ...   \n",
       "Gears             0.015023  0.209477   0.018601  -0.098555  0.014629  ...   \n",
       "Quarterly_Tax     0.278165 -0.298432   0.011326  -0.055371  0.306996  ...   \n",
       "Weight           -0.028598  0.089614   0.057929   0.057249  0.335637  ...   \n",
       "Mfr_Guarantee    -0.212851  0.140026   0.154850   0.026194 -0.057407  ...   \n",
       "BOVAG_Guarantee   0.001438  0.022701   0.010783   0.023393 -0.081725  ...   \n",
       "Guarantee_Period -0.138942  0.076163   0.009295  -0.002256 -0.017683  ...   \n",
       "ABS              -0.177203  0.057832   0.022298  -0.016128  0.037806  ...   \n",
       "Airbag_1         -0.018012  0.025137   0.100055  -0.011895  0.022678  ...   \n",
       "Airbag_2         -0.139275  0.017644   0.038416   0.001171  0.024738  ...   \n",
       "Airco            -0.133057  0.241134   0.114190  -0.028353  0.119888  ...   \n",
       "Automatic_airco  -0.258221  0.244957   0.027977   0.059057  0.162669  ...   \n",
       "Boardcomputer    -0.353862  0.129715   0.089886  -0.037069  0.009312  ...   \n",
       "CD_Player        -0.266826  0.102300   0.198220  -0.010967  0.057787  ...   \n",
       "Central_Lock     -0.125177  0.250122   0.153307  -0.002502  0.072634  ...   \n",
       "Powered_Windows  -0.156242  0.265593   0.145147  -0.005864  0.055299  ...   \n",
       "Power_Steering    0.007397  0.048850   0.086544  -0.004469  0.032933  ...   \n",
       "Radio             0.013661  0.020998   0.072756  -0.014600 -0.000361  ...   \n",
       "Mistlamps        -0.074327  0.210571   0.023821   0.003077  0.017326  ...   \n",
       "Sport_Model      -0.044784 -0.006027   0.003779   0.013175 -0.035195  ...   \n",
       "Backseat_Divider -0.045658  0.010908   0.037741  -0.018876 -0.055711  ...   \n",
       "Metallic_Rim     -0.013599  0.206784   0.053829  -0.078095  0.003236  ...   \n",
       "Radio_cassette    0.015770  0.019919   0.071530  -0.014150 -0.000470  ...   \n",
       "Tow_Bar           0.084153  0.068271   0.148536   0.018786  0.002725  ...   \n",
       "\n",
       "                  Central_Lock  Powered_Windows  Power_Steering     Radio  \\\n",
       "Id                   -0.238940        -0.236723       -0.091587 -0.010971   \n",
       "Price                 0.343458         0.356518        0.064275 -0.041887   \n",
       "Age_08_04            -0.279631        -0.283856       -0.069192  0.013791   \n",
       "Mfg_Month             0.010055         0.025185       -0.055495  0.031601   \n",
       "Mfg_Year              0.279490         0.280996        0.079676 -0.019607   \n",
       "KM                   -0.125177        -0.156242        0.007397  0.013661   \n",
       "HP                    0.250122         0.265593        0.048850  0.020998   \n",
       "Met_Color             0.153307         0.145147        0.086544  0.072756   \n",
       "Automatic            -0.002502        -0.005864       -0.004469 -0.014600   \n",
       "cc                    0.072634         0.055299        0.032933 -0.000361   \n",
       "Doors                 0.132092         0.107626        0.059792 -0.008318   \n",
       "Cylinders                  NaN              NaN             NaN       NaN   \n",
       "Gears                 0.126964         0.131423        0.021200  0.015090   \n",
       "Quarterly_Tax         0.032084         0.003827        0.047956 -0.031816   \n",
       "Weight                0.234644         0.213356        0.047849 -0.038407   \n",
       "Mfr_Guarantee         0.039915         0.041551        0.029771 -0.052058   \n",
       "BOVAG_Guarantee      -0.023008        -0.012406        0.164392 -0.039075   \n",
       "Guarantee_Period      0.058934         0.040534       -0.118974  0.198886   \n",
       "ABS                   0.099454         0.099465        0.254626 -0.054670   \n",
       "Airbag_1              0.120276         0.121641        0.561770 -0.010035   \n",
       "Airbag_2              0.024819         0.049129        0.212187 -0.223663   \n",
       "Airco                 0.540588         0.543982        0.096893 -0.030571   \n",
       "Automatic_airco       0.195790         0.203687        0.036912 -0.092647   \n",
       "Boardcomputer         0.203126         0.213327        0.087207 -0.129094   \n",
       "CD_Player             0.194076         0.195386        0.068452 -0.185568   \n",
       "Central_Lock          1.000000         0.875552        0.129646 -0.011251   \n",
       "Powered_Windows       0.875552         1.000000        0.123458 -0.035811   \n",
       "Power_Steering        0.129646         0.123458        1.000000  0.009075   \n",
       "Radio                -0.011251        -0.035811        0.009075  1.000000   \n",
       "Mistlamps             0.487426         0.496697        0.077985 -0.126118   \n",
       "Sport_Model          -0.003128        -0.000650        0.098866 -0.137729   \n",
       "Backseat_Divider      0.058449         0.078244        0.265169 -0.209590   \n",
       "Metallic_Rim          0.281334         0.291419        0.053217 -0.034162   \n",
       "Radio_cassette       -0.016954        -0.037626       -0.004584  0.991621   \n",
       "Tow_Bar              -0.007728        -0.013252        0.030453  0.143652   \n",
       "\n",
       "                  Mistlamps  Sport_Model  Backseat_Divider  Metallic_Rim  \\\n",
       "Id                -0.139708    -0.028704         -0.136398     -0.022232   \n",
       "Price              0.222083     0.164121          0.102569      0.108564   \n",
       "Age_08_04         -0.126895    -0.110988         -0.116751     -0.040045   \n",
       "Mfg_Month         -0.033504     0.052789          0.023245      0.023506   \n",
       "Mfg_Year           0.133737     0.102080          0.113237      0.036022   \n",
       "KM                -0.074327    -0.044784         -0.045658     -0.013599   \n",
       "HP                 0.210571    -0.006027          0.010908      0.206784   \n",
       "Met_Color          0.023821     0.003779          0.037741      0.053829   \n",
       "Automatic          0.003077     0.013175         -0.018876     -0.078095   \n",
       "cc                 0.017326    -0.035195         -0.055711      0.003236   \n",
       "Doors              0.064705    -0.129881         -0.022542     -0.039555   \n",
       "Cylinders               NaN          NaN               NaN           NaN   \n",
       "Gears              0.238789     0.174117          0.076705      0.295077   \n",
       "Quarterly_Tax      0.024024     0.067525          0.198419     -0.011965   \n",
       "Weight             0.135236     0.125974          0.036446      0.053847   \n",
       "Mfr_Guarantee      0.083958     0.054129          0.256249      0.026728   \n",
       "BOVAG_Guarantee    0.117472     0.173978          0.457468      0.060434   \n",
       "Guarantee_Period  -0.118021    -0.172874         -0.484427     -0.044003   \n",
       "ABS                0.179433     0.200596          0.256659      0.079152   \n",
       "Airbag_1           0.092618     0.113671          0.307947      0.057345   \n",
       "Airbag_2           0.228843     0.300274          0.589987      0.075128   \n",
       "Airco              0.466751     0.002730          0.105149      0.233166   \n",
       "Automatic_airco    0.312141     0.215287          0.018756      0.100363   \n",
       "Boardcomputer      0.147900     0.036802          0.287615     -0.024999   \n",
       "CD_Player          0.124589     0.057920          0.148806      0.044730   \n",
       "Central_Lock       0.487426    -0.003128          0.058449      0.281334   \n",
       "Powered_Windows    0.496697    -0.000650          0.078244      0.291419   \n",
       "Power_Steering     0.077985     0.098866          0.265169      0.053217   \n",
       "Radio             -0.126118    -0.137729         -0.209590     -0.034162   \n",
       "Mistlamps          1.000000     0.004342          0.245463      0.412545   \n",
       "Sport_Model        0.004342     1.000000          0.357713      0.051810   \n",
       "Backseat_Divider   0.245463     0.357713          1.000000      0.104862   \n",
       "Metallic_Rim       0.412545     0.051810          0.104862      1.000000   \n",
       "Radio_cassette    -0.134245    -0.136708         -0.206390     -0.033228   \n",
       "Tow_Bar           -0.069479    -0.094147         -0.049176     -0.037331   \n",
       "\n",
       "                  Radio_cassette   Tow_Bar  \n",
       "Id                     -0.011611  0.159171  \n",
       "Price                  -0.043179 -0.172369  \n",
       "Age_08_04               0.012857  0.188720  \n",
       "Mfg_Month               0.032576 -0.042170  \n",
       "Mfg_Year               -0.018844 -0.182206  \n",
       "KM                      0.015770  0.084153  \n",
       "HP                      0.019919  0.068271  \n",
       "Met_Color               0.071530  0.148536  \n",
       "Automatic              -0.014150  0.018786  \n",
       "cc                     -0.000470  0.002725  \n",
       "Doors                  -0.008265  0.102292  \n",
       "Cylinders                    NaN       NaN  \n",
       "Gears                   0.015397 -0.029357  \n",
       "Quarterly_Tax          -0.031009 -0.004988  \n",
       "Weight                 -0.037265 -0.074932  \n",
       "Mfr_Guarantee          -0.054532 -0.023328  \n",
       "BOVAG_Guarantee        -0.039827 -0.006718  \n",
       "Guarantee_Period        0.193910  0.008590  \n",
       "ABS                    -0.055724 -0.065976  \n",
       "Airbag_1               -0.022117  0.052312  \n",
       "Airbag_2               -0.220917 -0.063956  \n",
       "Airco                  -0.036524 -0.024362  \n",
       "Automatic_airco        -0.092348 -0.117967  \n",
       "Boardcomputer          -0.128073 -0.128001  \n",
       "CD_Player              -0.189668 -0.079911  \n",
       "Central_Lock           -0.016954 -0.007728  \n",
       "Powered_Windows        -0.037626 -0.013252  \n",
       "Power_Steering         -0.004584  0.030453  \n",
       "Radio                   0.991621  0.143652  \n",
       "Mistlamps              -0.134245 -0.069479  \n",
       "Sport_Model            -0.136708 -0.094147  \n",
       "Backseat_Divider       -0.206390 -0.049176  \n",
       "Metallic_Rim           -0.033228 -0.037331  \n",
       "Radio_cassette          1.000000  0.140753  \n",
       "Tow_Bar                 0.140753  1.000000  \n",
       "\n",
       "[35 rows x 35 columns]"
      ]
     },
     "execution_count": 25,
     "metadata": {},
     "output_type": "execute_result"
    }
   ],
   "source": [
    "toyota_data.corr()"
   ]
  },
  {
   "cell_type": "code",
   "execution_count": null,
   "metadata": {},
   "outputs": [],
   "source": []
  },
  {
   "cell_type": "code",
   "execution_count": null,
   "metadata": {},
   "outputs": [],
   "source": []
  },
  {
   "cell_type": "code",
   "execution_count": 22,
   "metadata": {},
   "outputs": [],
   "source": [
    "# VIF\n",
    "\n",
    "rsq_age = smf.ols('Age_08_04~KM+HP+cc+Doors+Gears+Quarterly_Tax+Weight',data=toyota_data).fit().rsquared\n",
    "vif_age = 1/(1-rsq_age)\n",
    "\n",
    "rsq_KM = smf.ols('KM~Age_08_04+HP+cc+Doors+Gears+Quarterly_Tax+Weight',data=toyota_data).fit().rsquared\n",
    "vif_KM = 1/(1-rsq_KM)\n",
    "\n",
    "rsq_HP = smf.ols('HP~Age_08_04+KM+cc+Doors+Gears+Quarterly_Tax+Weight',data=toyota_data).fit().rsquared\n",
    "vif_HP = 1/(1-rsq_HP)\n",
    "\n",
    "rsq_cc = smf.ols('cc~Age_08_04+HP+KM+Doors+Gears+Quarterly_Tax+Weight',data=toyota_data).fit().rsquared\n",
    "vif_cc = 1/(1-rsq_cc)\n",
    "\n",
    "rsq_doors = smf.ols('Doors~Age_08_04+HP+cc+KM+Gears+Quarterly_Tax+Weight',data=toyota_data).fit().rsquared\n",
    "vif_doors = 1/(1-rsq_doors)\n",
    "\n",
    "rsq_gears = smf.ols('Gears~Age_08_04+HP+cc+Doors+KM+Quarterly_Tax+Weight',data=toyota_data).fit().rsquared\n",
    "vif_gears = 1/(1-rsq_gears)\n",
    "\n",
    "rsq_qtrtax = smf.ols('Quarterly_Tax~Age_08_04+HP+cc+Doors+Gears+KM+Weight',data=toyota_data).fit().rsquared\n",
    "vif_qtrtax = 1/(1-rsq_qtrtax)\n",
    "\n",
    "rsq_weight = smf.ols('Weight~Age_08_04+HP+cc+Doors+Gears+Quarterly_Tax+KM',data=toyota_data).fit().rsquared\n",
    "vif_weight = 1/(1-rsq_weight)"
   ]
  },
  {
   "cell_type": "code",
   "execution_count": 23,
   "metadata": {},
   "outputs": [
    {
     "data": {
      "text/html": [
       "<div>\n",
       "<style scoped>\n",
       "    .dataframe tbody tr th:only-of-type {\n",
       "        vertical-align: middle;\n",
       "    }\n",
       "\n",
       "    .dataframe tbody tr th {\n",
       "        vertical-align: top;\n",
       "    }\n",
       "\n",
       "    .dataframe thead th {\n",
       "        text-align: right;\n",
       "    }\n",
       "</style>\n",
       "<table border=\"1\" class=\"dataframe\">\n",
       "  <thead>\n",
       "    <tr style=\"text-align: right;\">\n",
       "      <th></th>\n",
       "      <th>variable</th>\n",
       "      <th>VIF</th>\n",
       "    </tr>\n",
       "  </thead>\n",
       "  <tbody>\n",
       "    <tr>\n",
       "      <th>0</th>\n",
       "      <td>age</td>\n",
       "      <td>1.884620</td>\n",
       "    </tr>\n",
       "    <tr>\n",
       "      <th>1</th>\n",
       "      <td>KM</td>\n",
       "      <td>1.756905</td>\n",
       "    </tr>\n",
       "    <tr>\n",
       "      <th>2</th>\n",
       "      <td>HP</td>\n",
       "      <td>1.419422</td>\n",
       "    </tr>\n",
       "    <tr>\n",
       "      <th>3</th>\n",
       "      <td>cc</td>\n",
       "      <td>1.163894</td>\n",
       "    </tr>\n",
       "    <tr>\n",
       "      <th>4</th>\n",
       "      <td>doors</td>\n",
       "      <td>1.156575</td>\n",
       "    </tr>\n",
       "    <tr>\n",
       "      <th>5</th>\n",
       "      <td>gears</td>\n",
       "      <td>1.098723</td>\n",
       "    </tr>\n",
       "    <tr>\n",
       "      <th>6</th>\n",
       "      <td>qtr tax</td>\n",
       "      <td>2.311431</td>\n",
       "    </tr>\n",
       "    <tr>\n",
       "      <th>7</th>\n",
       "      <td>weight</td>\n",
       "      <td>2.516420</td>\n",
       "    </tr>\n",
       "  </tbody>\n",
       "</table>\n",
       "</div>"
      ],
      "text/plain": [
       "  variable       VIF\n",
       "0      age  1.884620\n",
       "1       KM  1.756905\n",
       "2       HP  1.419422\n",
       "3       cc  1.163894\n",
       "4    doors  1.156575\n",
       "5    gears  1.098723\n",
       "6  qtr tax  2.311431\n",
       "7   weight  2.516420"
      ]
     },
     "execution_count": 23,
     "metadata": {},
     "output_type": "execute_result"
    }
   ],
   "source": [
    "data1 = {\"variable\":[\"age\",\"KM\",\"HP\",\"cc\",\"doors\",\"gears\",\"qtr tax\",\"weight\"],\n",
    "         \"VIF\":[vif_age,vif_KM,vif_HP,vif_cc,vif_doors,vif_gears,vif_qtrtax,vif_weight]\n",
    "        }\n",
    "table1 = pd.DataFrame(data1)\n",
    "table1"
   ]
  },
  {
   "cell_type": "code",
   "execution_count": 26,
   "metadata": {},
   "outputs": [
    {
     "data": {
      "text/html": [
       "<div>\n",
       "<style scoped>\n",
       "    .dataframe tbody tr th:only-of-type {\n",
       "        vertical-align: middle;\n",
       "    }\n",
       "\n",
       "    .dataframe tbody tr th {\n",
       "        vertical-align: top;\n",
       "    }\n",
       "\n",
       "    .dataframe thead th {\n",
       "        text-align: right;\n",
       "    }\n",
       "</style>\n",
       "<table border=\"1\" class=\"dataframe\">\n",
       "  <thead>\n",
       "    <tr style=\"text-align: right;\">\n",
       "      <th></th>\n",
       "      <th>model</th>\n",
       "      <th>rsquared</th>\n",
       "      <th>AIC</th>\n",
       "    </tr>\n",
       "  </thead>\n",
       "  <tbody>\n",
       "    <tr>\n",
       "      <th>0</th>\n",
       "      <td>all</td>\n",
       "      <td>0.863763</td>\n",
       "      <td>24769.076640</td>\n",
       "    </tr>\n",
       "    <tr>\n",
       "      <th>1</th>\n",
       "      <td>except tax,wgt</td>\n",
       "      <td>0.817345</td>\n",
       "      <td>25186.113339</td>\n",
       "    </tr>\n",
       "    <tr>\n",
       "      <th>2</th>\n",
       "      <td>except doors</td>\n",
       "      <td>0.863763</td>\n",
       "      <td>24767.078283</td>\n",
       "    </tr>\n",
       "    <tr>\n",
       "      <th>3</th>\n",
       "      <td>except qtr tax</td>\n",
       "      <td>0.862895</td>\n",
       "      <td>24776.192381</td>\n",
       "    </tr>\n",
       "    <tr>\n",
       "      <th>4</th>\n",
       "      <td>except cc</td>\n",
       "      <td>0.863590</td>\n",
       "      <td>24768.893819</td>\n",
       "    </tr>\n",
       "  </tbody>\n",
       "</table>\n",
       "</div>"
      ],
      "text/plain": [
       "            model  rsquared           AIC\n",
       "0             all  0.863763  24769.076640\n",
       "1  except tax,wgt  0.817345  25186.113339\n",
       "2    except doors  0.863763  24767.078283\n",
       "3  except qtr tax  0.862895  24776.192381\n",
       "4       except cc  0.863590  24768.893819"
      ]
     },
     "execution_count": 26,
     "metadata": {},
     "output_type": "execute_result"
    }
   ],
   "source": [
    "table"
   ]
  },
  {
   "cell_type": "code",
   "execution_count": 27,
   "metadata": {},
   "outputs": [
    {
     "data": {
      "image/png": "[encoded data removed]",
      "text/plain": [
       "<Figure size 432x288 with 1 Axes>"
      ]
     },
     "metadata": {
      "needs_background": "light"
     },
     "output_type": "display_data"
    }
   ],
   "source": [
    "#QQplot\n",
    "import statsmodels.api as sm\n",
    "\n",
    "qqplot=sm.qqplot(model.resid,line='q')\n",
    "plt.show()"
   ]
  },
  {
   "cell_type": "code",
   "execution_count": 28,
   "metadata": {},
   "outputs": [
    {
     "data": {
      "text/plain": [
       "[array([ 109,  110,  111,  125,  147,  171,  523, 1058])]"
      ]
     },
     "execution_count": 28,
     "metadata": {},
     "output_type": "execute_result"
    }
   ],
   "source": [
    "list(np.where(model.resid>4000))"
   ]
  },
  {
   "cell_type": "code",
   "execution_count": 29,
   "metadata": {},
   "outputs": [
    {
     "data": {
      "text/plain": [
       "[array([191, 192, 221, 393, 402, 601, 654, 960])]"
      ]
     },
     "execution_count": 29,
     "metadata": {},
     "output_type": "execute_result"
    }
   ],
   "source": [
    "list(np.where(model.resid<-4000))"
   ]
  },
  {
   "cell_type": "code",
   "execution_count": 30,
   "metadata": {},
   "outputs": [],
   "source": [
    "# residual plot for homoscadaticity \n",
    "\n",
    "def get_standarddized_values(vals):\n",
    "    return (vals - vals.mean()/vals.std())"
   ]
  },
  {
   "cell_type": "code",
   "execution_count": 31,
   "metadata": {},
   "outputs": [
    {
     "data": {
      "text/plain": [
       "Text(0, 0.5, 'standarddized residuals')"
      ]
     },
     "execution_count": 31,
     "metadata": {},
     "output_type": "execute_result"
    },
    {
     "data": {
      "image/png": "[encoded data removed]",
      "text/plain": [
       "<Figure size 432x288 with 1 Axes>"
      ]
     },
     "metadata": {
      "needs_background": "light"
     },
     "output_type": "display_data"
    }
   ],
   "source": [
    "plt.scatter(get_standarddized_values(model.fittedvalues),get_standarddized_values(model.resid))\n",
    "plt.xlabel(\"standardized fitted values\")\n",
    "plt.ylabel(\"standarddized residuals\")"
   ]
  },
  {
   "cell_type": "code",
   "execution_count": 32,
   "metadata": {},
   "outputs": [
    {
     "data": {
      "image/png": "[encoded data removed]",
      "text/plain": [
       "<Figure size 1440x504 with 4 Axes>"
      ]
     },
     "metadata": {
      "needs_background": "light"
     },
     "output_type": "display_data"
    }
   ],
   "source": [
    "# residual vs regressors\n",
    "\n",
    "fig = plt.figure(figsize=(20,7))\n",
    "fig = sm.graphics.plot_regress_exog(model,'Age_08_04',fig=fig)"
   ]
  },
  {
   "cell_type": "code",
   "execution_count": 33,
   "metadata": {},
   "outputs": [
    {
     "data": {
      "image/png": "[encoded data removed]",
      "text/plain": [
       "<Figure size 1440x504 with 4 Axes>"
      ]
     },
     "metadata": {
      "needs_background": "light"
     },
     "output_type": "display_data"
    }
   ],
   "source": [
    "fig = plt.figure(figsize=(20,7))\n",
    "fig = sm.graphics.plot_regress_exog(model,'KM',fig=fig)"
   ]
  },
  {
   "cell_type": "code",
   "execution_count": null,
   "metadata": {},
   "outputs": [],
   "source": []
  },
  {
   "cell_type": "code",
   "execution_count": null,
   "metadata": {},
   "outputs": [],
   "source": []
  },
  {
   "cell_type": "code",
   "execution_count": 26,
   "metadata": {},
   "outputs": [],
   "source": [
    "#cooks distance\n",
    "\n",
    "model_influence = model.get_influence()\n",
    "(c,_) = model_influence.cooks_distance"
   ]
  },
  {
   "cell_type": "code",
   "execution_count": 38,
   "metadata": {},
   "outputs": [
    {
     "data": {
      "text/plain": [
       "<StemContainer object of 3 artists>"
      ]
     },
     "execution_count": 38,
     "metadata": {},
     "output_type": "execute_result"
    },
    {
     "data": {
      "image/png": "[encoded data removed]",
      "text/plain": [
       "<Figure size 1440x504 with 1 Axes>"
      ]
     },
     "metadata": {
      "needs_background": "light"
     },
     "output_type": "display_data"
    }
   ],
   "source": [
    "fig = plt.figure(figsize= (20,7))\n",
    "plt.stem(np.arange(len(toyota_data)),np.round(c,2))"
   ]
  },
  {
   "cell_type": "code",
   "execution_count": 34,
   "metadata": {},
   "outputs": [
    {
     "data": {
      "text/plain": [
       "(80, 79.52010624138055)"
      ]
     },
     "execution_count": 34,
     "metadata": {},
     "output_type": "execute_result"
    }
   ],
   "source": [
    "np.argmax(c),np.max(c)"
   ]
  },
  {
   "cell_type": "code",
   "execution_count": 37,
   "metadata": {},
   "outputs": [
    {
     "data": {
      "image/png": "[encoded data removed]",
      "text/plain": [
       "<Figure size 432x288 with 1 Axes>"
      ]
     },
     "execution_count": 37,
     "metadata": {},
     "output_type": "execute_result"
    },
    {
     "data": {
      "image/png": "[encoded data removed]",
      "text/plain": [
       "<Figure size 432x288 with 1 Axes>"
      ]
     },
     "metadata": {
      "needs_background": "light"
     },
     "output_type": "display_data"
    }
   ],
   "source": [
    "from statsmodels.graphics.regressionplots import influence_plot\n",
    "\n",
    "influence_plot(model)"
   ]
  },
  {
   "cell_type": "code",
   "execution_count": 40,
   "metadata": {},
   "outputs": [
    {
     "data": {
      "text/html": [
       "<div>\n",
       "<style scoped>\n",
       "    .dataframe tbody tr th:only-of-type {\n",
       "        vertical-align: middle;\n",
       "    }\n",
       "\n",
       "    .dataframe tbody tr th {\n",
       "        vertical-align: top;\n",
       "    }\n",
       "\n",
       "    .dataframe thead th {\n",
       "        text-align: right;\n",
       "    }\n",
       "</style>\n",
       "<table border=\"1\" class=\"dataframe\">\n",
       "  <thead>\n",
       "    <tr style=\"text-align: right;\">\n",
       "      <th></th>\n",
       "      <th>Id</th>\n",
       "      <th>Model</th>\n",
       "      <th>Price</th>\n",
       "      <th>Age_08_04</th>\n",
       "      <th>Mfg_Month</th>\n",
       "      <th>Mfg_Year</th>\n",
       "      <th>KM</th>\n",
       "      <th>Fuel_Type</th>\n",
       "      <th>HP</th>\n",
       "      <th>Met_Color</th>\n",
       "      <th>...</th>\n",
       "      <th>Central_Lock</th>\n",
       "      <th>Powered_Windows</th>\n",
       "      <th>Power_Steering</th>\n",
       "      <th>Radio</th>\n",
       "      <th>Mistlamps</th>\n",
       "      <th>Sport_Model</th>\n",
       "      <th>Backseat_Divider</th>\n",
       "      <th>Metallic_Rim</th>\n",
       "      <th>Radio_cassette</th>\n",
       "      <th>Tow_Bar</th>\n",
       "    </tr>\n",
       "  </thead>\n",
       "  <tbody>\n",
       "    <tr>\n",
       "      <th>80</th>\n",
       "      <td>81</td>\n",
       "      <td>TOYOTA Corolla 1.6 5drs 1 4/5-Doors</td>\n",
       "      <td>18950</td>\n",
       "      <td>25</td>\n",
       "      <td>8</td>\n",
       "      <td>2002</td>\n",
       "      <td>20019</td>\n",
       "      <td>Petrol</td>\n",
       "      <td>110</td>\n",
       "      <td>1</td>\n",
       "      <td>...</td>\n",
       "      <td>1</td>\n",
       "      <td>1</td>\n",
       "      <td>1</td>\n",
       "      <td>0</td>\n",
       "      <td>0</td>\n",
       "      <td>0</td>\n",
       "      <td>0</td>\n",
       "      <td>0</td>\n",
       "      <td>0</td>\n",
       "      <td>0</td>\n",
       "    </tr>\n",
       "  </tbody>\n",
       "</table>\n",
       "<p>1 rows × 38 columns</p>\n",
       "</div>"
      ],
      "text/plain": [
       "    Id                                Model  Price  Age_08_04  Mfg_Month  \\\n",
       "80  81  TOYOTA Corolla 1.6 5drs 1 4/5-Doors  18950         25          8   \n",
       "\n",
       "    Mfg_Year     KM Fuel_Type   HP  Met_Color  ... Central_Lock  \\\n",
       "80      2002  20019    Petrol  110          1  ...            1   \n",
       "\n",
       "    Powered_Windows  Power_Steering  Radio  Mistlamps  Sport_Model  \\\n",
       "80                1               1      0          0            0   \n",
       "\n",
       "    Backseat_Divider  Metallic_Rim  Radio_cassette  Tow_Bar  \n",
       "80                 0             0               0        0  \n",
       "\n",
       "[1 rows x 38 columns]"
      ]
     },
     "execution_count": 40,
     "metadata": {},
     "output_type": "execute_result"
    }
   ],
   "source": [
    "toyota_data[toyota_data.index.isin([80])]"
   ]
  },
  {
   "cell_type": "code",
   "execution_count": 42,
   "metadata": {},
   "outputs": [
    {
     "data": {
      "text/html": [
       "<div>\n",
       "<style scoped>\n",
       "    .dataframe tbody tr th:only-of-type {\n",
       "        vertical-align: middle;\n",
       "    }\n",
       "\n",
       "    .dataframe tbody tr th {\n",
       "        vertical-align: top;\n",
       "    }\n",
       "\n",
       "    .dataframe thead th {\n",
       "        text-align: right;\n",
       "    }\n",
       "</style>\n",
       "<table border=\"1\" class=\"dataframe\">\n",
       "  <thead>\n",
       "    <tr style=\"text-align: right;\">\n",
       "      <th></th>\n",
       "      <th>Id</th>\n",
       "      <th>Model</th>\n",
       "      <th>Price</th>\n",
       "      <th>Age_08_04</th>\n",
       "      <th>Mfg_Month</th>\n",
       "      <th>Mfg_Year</th>\n",
       "      <th>KM</th>\n",
       "      <th>Fuel_Type</th>\n",
       "      <th>HP</th>\n",
       "      <th>Met_Color</th>\n",
       "      <th>...</th>\n",
       "      <th>Central_Lock</th>\n",
       "      <th>Powered_Windows</th>\n",
       "      <th>Power_Steering</th>\n",
       "      <th>Radio</th>\n",
       "      <th>Mistlamps</th>\n",
       "      <th>Sport_Model</th>\n",
       "      <th>Backseat_Divider</th>\n",
       "      <th>Metallic_Rim</th>\n",
       "      <th>Radio_cassette</th>\n",
       "      <th>Tow_Bar</th>\n",
       "    </tr>\n",
       "  </thead>\n",
       "  <tbody>\n",
       "    <tr>\n",
       "      <th>80</th>\n",
       "      <td>81</td>\n",
       "      <td>TOYOTA Corolla 1.6 5drs 1 4/5-Doors</td>\n",
       "      <td>18950</td>\n",
       "      <td>25</td>\n",
       "      <td>8</td>\n",
       "      <td>2002</td>\n",
       "      <td>20019</td>\n",
       "      <td>Petrol</td>\n",
       "      <td>110</td>\n",
       "      <td>1</td>\n",
       "      <td>...</td>\n",
       "      <td>1</td>\n",
       "      <td>1</td>\n",
       "      <td>1</td>\n",
       "      <td>0</td>\n",
       "      <td>0</td>\n",
       "      <td>0</td>\n",
       "      <td>0</td>\n",
       "      <td>0</td>\n",
       "      <td>0</td>\n",
       "      <td>0</td>\n",
       "    </tr>\n",
       "  </tbody>\n",
       "</table>\n",
       "<p>1 rows × 38 columns</p>\n",
       "</div>"
      ],
      "text/plain": [
       "    Id                                Model  Price  Age_08_04  Mfg_Month  \\\n",
       "80  81  TOYOTA Corolla 1.6 5drs 1 4/5-Doors  18950         25          8   \n",
       "\n",
       "    Mfg_Year     KM Fuel_Type   HP  Met_Color  ... Central_Lock  \\\n",
       "80      2002  20019    Petrol  110          1  ...            1   \n",
       "\n",
       "    Powered_Windows  Power_Steering  Radio  Mistlamps  Sport_Model  \\\n",
       "80                1               1      0          0            0   \n",
       "\n",
       "    Backseat_Divider  Metallic_Rim  Radio_cassette  Tow_Bar  \n",
       "80                 0             0               0        0  \n",
       "\n",
       "[1 rows x 38 columns]"
      ]
     },
     "execution_count": 42,
     "metadata": {},
     "output_type": "execute_result"
    }
   ],
   "source": [
    "car_data1 = pd.read_csv(\"ToyotaCorolla.csv\",encoding='unicode_escape')\n",
    "car_data1[car_data1.index.isin([80])]"
   ]
  },
  {
   "cell_type": "code",
   "execution_count": 43,
   "metadata": {},
   "outputs": [
    {
     "data": {
      "text/html": [
       "<div>\n",
       "<style scoped>\n",
       "    .dataframe tbody tr th:only-of-type {\n",
       "        vertical-align: middle;\n",
       "    }\n",
       "\n",
       "    .dataframe tbody tr th {\n",
       "        vertical-align: top;\n",
       "    }\n",
       "\n",
       "    .dataframe thead th {\n",
       "        text-align: right;\n",
       "    }\n",
       "</style>\n",
       "<table border=\"1\" class=\"dataframe\">\n",
       "  <thead>\n",
       "    <tr style=\"text-align: right;\">\n",
       "      <th></th>\n",
       "      <th>index</th>\n",
       "      <th>Id</th>\n",
       "      <th>Model</th>\n",
       "      <th>Price</th>\n",
       "      <th>Age_08_04</th>\n",
       "      <th>Mfg_Month</th>\n",
       "      <th>Mfg_Year</th>\n",
       "      <th>KM</th>\n",
       "      <th>Fuel_Type</th>\n",
       "      <th>HP</th>\n",
       "      <th>...</th>\n",
       "      <th>Central_Lock</th>\n",
       "      <th>Powered_Windows</th>\n",
       "      <th>Power_Steering</th>\n",
       "      <th>Radio</th>\n",
       "      <th>Mistlamps</th>\n",
       "      <th>Sport_Model</th>\n",
       "      <th>Backseat_Divider</th>\n",
       "      <th>Metallic_Rim</th>\n",
       "      <th>Radio_cassette</th>\n",
       "      <th>Tow_Bar</th>\n",
       "    </tr>\n",
       "  </thead>\n",
       "  <tbody>\n",
       "    <tr>\n",
       "      <th>0</th>\n",
       "      <td>0</td>\n",
       "      <td>1</td>\n",
       "      <td>TOYOTA Corolla 2.0 D4D HATCHB TERRA 2/3-Doors</td>\n",
       "      <td>13500</td>\n",
       "      <td>23</td>\n",
       "      <td>10</td>\n",
       "      <td>2002</td>\n",
       "      <td>46986</td>\n",
       "      <td>Diesel</td>\n",
       "      <td>90</td>\n",
       "      <td>...</td>\n",
       "      <td>1</td>\n",
       "      <td>1</td>\n",
       "      <td>1</td>\n",
       "      <td>0</td>\n",
       "      <td>0</td>\n",
       "      <td>0</td>\n",
       "      <td>1</td>\n",
       "      <td>0</td>\n",
       "      <td>0</td>\n",
       "      <td>0</td>\n",
       "    </tr>\n",
       "    <tr>\n",
       "      <th>1</th>\n",
       "      <td>1</td>\n",
       "      <td>2</td>\n",
       "      <td>TOYOTA Corolla 2.0 D4D HATCHB TERRA 2/3-Doors</td>\n",
       "      <td>13750</td>\n",
       "      <td>23</td>\n",
       "      <td>10</td>\n",
       "      <td>2002</td>\n",
       "      <td>72937</td>\n",
       "      <td>Diesel</td>\n",
       "      <td>90</td>\n",
       "      <td>...</td>\n",
       "      <td>1</td>\n",
       "      <td>0</td>\n",
       "      <td>1</td>\n",
       "      <td>0</td>\n",
       "      <td>0</td>\n",
       "      <td>0</td>\n",
       "      <td>1</td>\n",
       "      <td>0</td>\n",
       "      <td>0</td>\n",
       "      <td>0</td>\n",
       "    </tr>\n",
       "    <tr>\n",
       "      <th>2</th>\n",
       "      <td>2</td>\n",
       "      <td>3</td>\n",
       "      <td>TOYOTA Corolla 2.0 D4D HATCHB TERRA 2/3-Doors</td>\n",
       "      <td>13950</td>\n",
       "      <td>24</td>\n",
       "      <td>9</td>\n",
       "      <td>2002</td>\n",
       "      <td>41711</td>\n",
       "      <td>Diesel</td>\n",
       "      <td>90</td>\n",
       "      <td>...</td>\n",
       "      <td>0</td>\n",
       "      <td>0</td>\n",
       "      <td>1</td>\n",
       "      <td>0</td>\n",
       "      <td>0</td>\n",
       "      <td>0</td>\n",
       "      <td>1</td>\n",
       "      <td>0</td>\n",
       "      <td>0</td>\n",
       "      <td>0</td>\n",
       "    </tr>\n",
       "    <tr>\n",
       "      <th>3</th>\n",
       "      <td>3</td>\n",
       "      <td>4</td>\n",
       "      <td>TOYOTA Corolla 2.0 D4D HATCHB TERRA 2/3-Doors</td>\n",
       "      <td>14950</td>\n",
       "      <td>26</td>\n",
       "      <td>7</td>\n",
       "      <td>2002</td>\n",
       "      <td>48000</td>\n",
       "      <td>Diesel</td>\n",
       "      <td>90</td>\n",
       "      <td>...</td>\n",
       "      <td>0</td>\n",
       "      <td>0</td>\n",
       "      <td>1</td>\n",
       "      <td>0</td>\n",
       "      <td>0</td>\n",
       "      <td>0</td>\n",
       "      <td>1</td>\n",
       "      <td>0</td>\n",
       "      <td>0</td>\n",
       "      <td>0</td>\n",
       "    </tr>\n",
       "    <tr>\n",
       "      <th>4</th>\n",
       "      <td>4</td>\n",
       "      <td>5</td>\n",
       "      <td>TOYOTA Corolla 2.0 D4D HATCHB SOL 2/3-Doors</td>\n",
       "      <td>13750</td>\n",
       "      <td>30</td>\n",
       "      <td>3</td>\n",
       "      <td>2002</td>\n",
       "      <td>38500</td>\n",
       "      <td>Diesel</td>\n",
       "      <td>90</td>\n",
       "      <td>...</td>\n",
       "      <td>1</td>\n",
       "      <td>1</td>\n",
       "      <td>1</td>\n",
       "      <td>0</td>\n",
       "      <td>1</td>\n",
       "      <td>0</td>\n",
       "      <td>1</td>\n",
       "      <td>0</td>\n",
       "      <td>0</td>\n",
       "      <td>0</td>\n",
       "    </tr>\n",
       "  </tbody>\n",
       "</table>\n",
       "<p>5 rows × 39 columns</p>\n",
       "</div>"
      ],
      "text/plain": [
       "   index  Id                                           Model  Price  \\\n",
       "0      0   1   TOYOTA Corolla 2.0 D4D HATCHB TERRA 2/3-Doors  13500   \n",
       "1      1   2   TOYOTA Corolla 2.0 D4D HATCHB TERRA 2/3-Doors  13750   \n",
       "2      2   3   TOYOTA Corolla 2.0 D4D HATCHB TERRA 2/3-Doors  13950   \n",
       "3      3   4   TOYOTA Corolla 2.0 D4D HATCHB TERRA 2/3-Doors  14950   \n",
       "4      4   5     TOYOTA Corolla 2.0 D4D HATCHB SOL 2/3-Doors  13750   \n",
       "\n",
       "   Age_08_04  Mfg_Month  Mfg_Year     KM Fuel_Type  HP  ...  Central_Lock  \\\n",
       "0         23         10      2002  46986    Diesel  90  ...             1   \n",
       "1         23         10      2002  72937    Diesel  90  ...             1   \n",
       "2         24          9      2002  41711    Diesel  90  ...             0   \n",
       "3         26          7      2002  48000    Diesel  90  ...             0   \n",
       "4         30          3      2002  38500    Diesel  90  ...             1   \n",
       "\n",
       "  Powered_Windows  Power_Steering  Radio  Mistlamps  Sport_Model  \\\n",
       "0               1               1      0          0            0   \n",
       "1               0               1      0          0            0   \n",
       "2               0               1      0          0            0   \n",
       "3               0               1      0          0            0   \n",
       "4               1               1      0          1            0   \n",
       "\n",
       "   Backseat_Divider  Metallic_Rim  Radio_cassette  Tow_Bar  \n",
       "0                 1             0               0        0  \n",
       "1                 1             0               0        0  \n",
       "2                 1             0               0        0  \n",
       "3                 1             0               0        0  \n",
       "4                 1             0               0        0  \n",
       "\n",
       "[5 rows x 39 columns]"
      ]
     },
     "execution_count": 43,
     "metadata": {},
     "output_type": "execute_result"
    }
   ],
   "source": [
    "car_data1 = car_data1.drop(car_data1.index[[80]],axis=0).reset_index()\n",
    "car_data1.head()"
   ]
  },
  {
   "cell_type": "code",
   "execution_count": null,
   "metadata": {},
   "outputs": [],
   "source": []
  },
  {
   "cell_type": "code",
   "execution_count": null,
   "metadata": {},
   "outputs": [],
   "source": [
    "\n"
   ]
  },
  {
   "cell_type": "code",
   "execution_count": 44,
   "metadata": {},
   "outputs": [
    {
     "data": {
      "text/plain": [
       "(0.8693790488655819, 24687.28102432684)"
      ]
     },
     "execution_count": 44,
     "metadata": {},
     "output_type": "execute_result"
    }
   ],
   "source": [
    "mdl1 = smf.ols('Price~Age_08_04+KM+HP+cc+Doors+Gears+Quarterly_Tax+Weight',data=car_data1).fit()\n",
    "mdl1.rsquared,mdl1.aic"
   ]
  },
  {
   "cell_type": "code",
   "execution_count": 45,
   "metadata": {},
   "outputs": [
    {
     "data": {
      "text/plain": [
       "(0.8637627463428192, 24769.07664007625)"
      ]
     },
     "execution_count": 45,
     "metadata": {},
     "output_type": "execute_result"
    }
   ],
   "source": [
    "model.rsquared,model.aic"
   ]
  },
  {
   "cell_type": "code",
   "execution_count": 46,
   "metadata": {},
   "outputs": [
    {
     "data": {
      "image/png": "[encoded data removed]",
      "text/plain": [
       "<Figure size 432x288 with 1 Axes>"
      ]
     },
     "metadata": {
      "needs_background": "light"
     },
     "output_type": "display_data"
    }
   ],
   "source": [
    "\n",
    "\n",
    "influence_plot(mdl1)\n",
    "plt.show()"
   ]
  },
  {
   "cell_type": "code",
   "execution_count": 44,
   "metadata": {},
   "outputs": [
    {
     "data": {
      "text/plain": [
       "(1435, 39)"
      ]
     },
     "execution_count": 44,
     "metadata": {},
     "output_type": "execute_result"
    }
   ],
   "source": [
    "car_data1.shape"
   ]
  },
  {
   "cell_type": "code",
   "execution_count": 47,
   "metadata": {},
   "outputs": [
    {
     "data": {
      "text/html": [
       "<div>\n",
       "<style scoped>\n",
       "    .dataframe tbody tr th:only-of-type {\n",
       "        vertical-align: middle;\n",
       "    }\n",
       "\n",
       "    .dataframe tbody tr th {\n",
       "        vertical-align: top;\n",
       "    }\n",
       "\n",
       "    .dataframe thead th {\n",
       "        text-align: right;\n",
       "    }\n",
       "</style>\n",
       "<table border=\"1\" class=\"dataframe\">\n",
       "  <thead>\n",
       "    <tr style=\"text-align: right;\">\n",
       "      <th></th>\n",
       "      <th>index</th>\n",
       "      <th>Id</th>\n",
       "      <th>Model</th>\n",
       "      <th>Price</th>\n",
       "      <th>Age_08_04</th>\n",
       "      <th>Mfg_Month</th>\n",
       "      <th>Mfg_Year</th>\n",
       "      <th>KM</th>\n",
       "      <th>Fuel_Type</th>\n",
       "      <th>HP</th>\n",
       "      <th>...</th>\n",
       "      <th>Central_Lock</th>\n",
       "      <th>Powered_Windows</th>\n",
       "      <th>Power_Steering</th>\n",
       "      <th>Radio</th>\n",
       "      <th>Mistlamps</th>\n",
       "      <th>Sport_Model</th>\n",
       "      <th>Backseat_Divider</th>\n",
       "      <th>Metallic_Rim</th>\n",
       "      <th>Radio_cassette</th>\n",
       "      <th>Tow_Bar</th>\n",
       "    </tr>\n",
       "  </thead>\n",
       "  <tbody>\n",
       "    <tr>\n",
       "      <th>220</th>\n",
       "      <td>221</td>\n",
       "      <td>223</td>\n",
       "      <td>TOYOTA Corolla 1.6 HB LINEA SOL 4/5-Doors</td>\n",
       "      <td>12450</td>\n",
       "      <td>44</td>\n",
       "      <td>1</td>\n",
       "      <td>2001</td>\n",
       "      <td>74172</td>\n",
       "      <td>Petrol</td>\n",
       "      <td>110</td>\n",
       "      <td>...</td>\n",
       "      <td>1</td>\n",
       "      <td>1</td>\n",
       "      <td>1</td>\n",
       "      <td>0</td>\n",
       "      <td>0</td>\n",
       "      <td>0</td>\n",
       "      <td>1</td>\n",
       "      <td>0</td>\n",
       "      <td>0</td>\n",
       "      <td>0</td>\n",
       "    </tr>\n",
       "    <tr>\n",
       "      <th>959</th>\n",
       "      <td>960</td>\n",
       "      <td>964</td>\n",
       "      <td>TOYOTA Corolla</td>\n",
       "      <td>9390</td>\n",
       "      <td>66</td>\n",
       "      <td>3</td>\n",
       "      <td>1999</td>\n",
       "      <td>50806</td>\n",
       "      <td>Petrol</td>\n",
       "      <td>86</td>\n",
       "      <td>...</td>\n",
       "      <td>0</td>\n",
       "      <td>0</td>\n",
       "      <td>0</td>\n",
       "      <td>0</td>\n",
       "      <td>0</td>\n",
       "      <td>0</td>\n",
       "      <td>0</td>\n",
       "      <td>0</td>\n",
       "      <td>0</td>\n",
       "      <td>0</td>\n",
       "    </tr>\n",
       "  </tbody>\n",
       "</table>\n",
       "<p>2 rows × 39 columns</p>\n",
       "</div>"
      ],
      "text/plain": [
       "     index   Id                                      Model  Price  Age_08_04  \\\n",
       "220    221  223  TOYOTA Corolla 1.6 HB LINEA SOL 4/5-Doors  12450         44   \n",
       "959    960  964                            TOYOTA Corolla    9390         66   \n",
       "\n",
       "     Mfg_Month  Mfg_Year     KM Fuel_Type   HP  ...  Central_Lock  \\\n",
       "220          1      2001  74172    Petrol  110  ...             1   \n",
       "959          3      1999  50806    Petrol   86  ...             0   \n",
       "\n",
       "    Powered_Windows  Power_Steering  Radio  Mistlamps  Sport_Model  \\\n",
       "220               1               1      0          0            0   \n",
       "959               0               0      0          0            0   \n",
       "\n",
       "     Backseat_Divider  Metallic_Rim  Radio_cassette  Tow_Bar  \n",
       "220                 1             0               0        0  \n",
       "959                 0             0               0        0  \n",
       "\n",
       "[2 rows x 39 columns]"
      ]
     },
     "execution_count": 47,
     "metadata": {},
     "output_type": "execute_result"
    }
   ],
   "source": [
    "car_data1[car_data1.index.isin([220,959])]"
   ]
  },
  {
   "cell_type": "code",
   "execution_count": 48,
   "metadata": {},
   "outputs": [],
   "source": [
    "model_influence = mdl1.get_influence()\n",
    "(c,_) = model_influence.cooks_distance"
   ]
  },
  {
   "cell_type": "code",
   "execution_count": 52,
   "metadata": {},
   "outputs": [
    {
     "data": {
      "image/png": "[encoded data removed]",
      "text/plain": [
       "<Figure size 1440x504 with 1 Axes>"
      ]
     },
     "metadata": {
      "needs_background": "light"
     },
     "output_type": "display_data"
    }
   ],
   "source": [
    "fig= plt.subplots(figsize=(20,7))\n",
    "plt.stem(np.arange(len(car_data1)),np.round(c,3));\n",
    "plt.xlabel('Row index')\n",
    "plt.ylabel('Cooks Distance');"
   ]
  },
  {
   "cell_type": "code",
   "execution_count": 48,
   "metadata": {},
   "outputs": [
    {
     "data": {
      "image/png": "[encoded data removed]",
      "text/plain": [
       "<Figure size 432x288 with 1 Axes>"
      ]
     },
     "metadata": {
      "needs_background": "light"
     },
     "output_type": "display_data"
    }
   ],
   "source": [
    "influence_plot(mdl1)\n",
    "plt.show()"
   ]
  },
  {
   "cell_type": "code",
   "execution_count": 54,
   "metadata": {},
   "outputs": [
    {
     "data": {
      "text/plain": [
       "(220, 2.2244611713001508)"
      ]
     },
     "execution_count": 54,
     "metadata": {},
     "output_type": "execute_result"
    }
   ],
   "source": [
    "np.argmax(c),np.max(c)"
   ]
  },
  {
   "cell_type": "code",
   "execution_count": 55,
   "metadata": {},
   "outputs": [],
   "source": [
    "# since np.max is still greater than 1, we need to use cooks distance further \n",
    "# to eliminate the outliers"
   ]
  },
  {
   "cell_type": "code",
   "execution_count": null,
   "metadata": {},
   "outputs": [],
   "source": []
  },
  {
   "cell_type": "code",
   "execution_count": 56,
   "metadata": {},
   "outputs": [],
   "source": [
    "car_data2 = pd.read_csv(\"ToyotaCorolla.csv\",encoding='unicode_escape')\n"
   ]
  },
  {
   "cell_type": "code",
   "execution_count": 57,
   "metadata": {},
   "outputs": [],
   "source": [
    "car_data2=car_data1.drop(car_data1.index[[220,959]],axis=0)"
   ]
  },
  {
   "cell_type": "code",
   "execution_count": 58,
   "metadata": {},
   "outputs": [],
   "source": [
    "mdl2 = smf.ols('Price~Age_08_04+KM+HP+cc+Doors+Gears+Quarterly_Tax+Weight',data=car_data2).fit()"
   ]
  },
  {
   "cell_type": "code",
   "execution_count": 59,
   "metadata": {},
   "outputs": [
    {
     "data": {
      "text/plain": [
       "(0.8851845904421739, 24469.715205158594)"
      ]
     },
     "execution_count": 59,
     "metadata": {},
     "output_type": "execute_result"
    }
   ],
   "source": [
    "mdl2.rsquared,mdl2.aic"
   ]
  },
  {
   "cell_type": "code",
   "execution_count": 60,
   "metadata": {},
   "outputs": [],
   "source": [
    "model_influence = mdl2.get_influence()\n",
    "(c,_) = model_influence.cooks_distance"
   ]
  },
  {
   "cell_type": "code",
   "execution_count": 61,
   "metadata": {},
   "outputs": [
    {
     "data": {
      "text/plain": [
       "<StemContainer object of 3 artists>"
      ]
     },
     "execution_count": 61,
     "metadata": {},
     "output_type": "execute_result"
    },
    {
     "data": {
      "image/png": "[encoded data removed]",
      "text/plain": [
       "<Figure size 1440x504 with 1 Axes>"
      ]
     },
     "metadata": {
      "needs_background": "light"
     },
     "output_type": "display_data"
    }
   ],
   "source": [
    "fig = plt.subplots(figsize=(20,7))\n",
    "plt.stem(np.arange(len(car_data2)),np.round(c,3))"
   ]
  },
  {
   "cell_type": "code",
   "execution_count": 62,
   "metadata": {},
   "outputs": [
    {
     "data": {
      "image/png": "[encoded data removed]",
      "text/plain": [
       "<Figure size 432x288 with 1 Axes>"
      ]
     },
     "metadata": {
      "needs_background": "light"
     },
     "output_type": "display_data"
    }
   ],
   "source": [
    "influence_plot(mdl2)\n",
    "plt.show()"
   ]
  },
  {
   "cell_type": "code",
   "execution_count": 67,
   "metadata": {},
   "outputs": [
    {
     "data": {
      "text/plain": [
       "(599, 0.3166131528144162)"
      ]
     },
     "execution_count": 67,
     "metadata": {},
     "output_type": "execute_result"
    }
   ],
   "source": [
    "np.argmax(c),np.max(c)"
   ]
  },
  {
   "cell_type": "code",
   "execution_count": 68,
   "metadata": {},
   "outputs": [
    {
     "data": {
      "text/plain": [
       "(0.8851845904421739, 24469.715205158594)"
      ]
     },
     "execution_count": 68,
     "metadata": {},
     "output_type": "execute_result"
    }
   ],
   "source": [
    "mdl2.rsquared,mdl2.aic"
   ]
  },
  {
   "cell_type": "code",
   "execution_count": 69,
   "metadata": {},
   "outputs": [
    {
     "data": {
      "text/html": [
       "<div>\n",
       "<style scoped>\n",
       "    .dataframe tbody tr th:only-of-type {\n",
       "        vertical-align: middle;\n",
       "    }\n",
       "\n",
       "    .dataframe tbody tr th {\n",
       "        vertical-align: top;\n",
       "    }\n",
       "\n",
       "    .dataframe thead th {\n",
       "        text-align: right;\n",
       "    }\n",
       "</style>\n",
       "<table border=\"1\" class=\"dataframe\">\n",
       "  <thead>\n",
       "    <tr style=\"text-align: right;\">\n",
       "      <th></th>\n",
       "      <th>Model</th>\n",
       "      <th>R squared</th>\n",
       "      <th>aic</th>\n",
       "    </tr>\n",
       "  </thead>\n",
       "  <tbody>\n",
       "    <tr>\n",
       "      <th>0</th>\n",
       "      <td>model1</td>\n",
       "      <td>0.863763</td>\n",
       "      <td>24769.076640</td>\n",
       "    </tr>\n",
       "    <tr>\n",
       "      <th>1</th>\n",
       "      <td>model2</td>\n",
       "      <td>0.869379</td>\n",
       "      <td>24687.281024</td>\n",
       "    </tr>\n",
       "    <tr>\n",
       "      <th>2</th>\n",
       "      <td>model3</td>\n",
       "      <td>0.885185</td>\n",
       "      <td>24469.715205</td>\n",
       "    </tr>\n",
       "  </tbody>\n",
       "</table>\n",
       "</div>"
      ],
      "text/plain": [
       "    Model  R squared           aic\n",
       "0  model1   0.863763  24769.076640\n",
       "1  model2   0.869379  24687.281024\n",
       "2  model3   0.885185  24469.715205"
      ]
     },
     "execution_count": 69,
     "metadata": {},
     "output_type": "execute_result"
    }
   ],
   "source": [
    "data2 = {\"Model\":[\"model1\",\"model2\",\"model3\"],\n",
    "        \"R squared\":[model.rsquared,mdl1.rsquared,mdl2.rsquared],\n",
    "         \"aic\":[model.aic,mdl1.aic,mdl2.aic]\n",
    "        }\n",
    "table2 = pd.DataFrame(data2)\n",
    "table2"
   ]
  },
  {
   "cell_type": "code",
   "execution_count": null,
   "metadata": {},
   "outputs": [],
   "source": []
  },
  {
   "cell_type": "code",
   "execution_count": 70,
   "metadata": {},
   "outputs": [
    {
     "data": {
      "image/png": "[encoded data removed]",
      "text/plain": [
       "<Figure size 432x288 with 1 Axes>"
      ]
     },
     "metadata": {
      "needs_background": "light"
     },
     "output_type": "display_data"
    }
   ],
   "source": [
    "influence_plot(mdl2)\n",
    "plt.show()"
   ]
  },
  {
   "cell_type": "code",
   "execution_count": null,
   "metadata": {},
   "outputs": [],
   "source": []
  },
  {
   "cell_type": "code",
   "execution_count": 71,
   "metadata": {},
   "outputs": [],
   "source": [
    "car_data3=car_data2.drop(car_data2.index[[600]],axis=0)"
   ]
  },
  {
   "cell_type": "code",
   "execution_count": 72,
   "metadata": {},
   "outputs": [],
   "source": [
    "mdl3 = smf.ols('Price~Age_08_04+KM+HP+cc+Doors+Gears+Quarterly_Tax+Weight',data=car_data3).fit()"
   ]
  },
  {
   "cell_type": "code",
   "execution_count": 73,
   "metadata": {},
   "outputs": [
    {
     "data": {
      "text/plain": [
       "(0.8853625611788162, 24451.19008243933)"
      ]
     },
     "execution_count": 73,
     "metadata": {},
     "output_type": "execute_result"
    }
   ],
   "source": [
    "mdl3.rsquared,mdl3.aic"
   ]
  },
  {
   "cell_type": "code",
   "execution_count": 74,
   "metadata": {},
   "outputs": [],
   "source": [
    "model_influence = mdl3.get_influence()\n",
    "(c,_)=model_influence.cooks_distance"
   ]
  },
  {
   "cell_type": "code",
   "execution_count": 180,
   "metadata": {},
   "outputs": [
    {
     "data": {
      "text/plain": [
       "<StemContainer object of 3 artists>"
      ]
     },
     "execution_count": 180,
     "metadata": {},
     "output_type": "execute_result"
    },
    {
     "data": {
      "image/png": "[encoded data removed]",
      "text/plain": [
       "<Figure size 1440x504 with 1 Axes>"
      ]
     },
     "metadata": {
      "needs_background": "light"
     },
     "output_type": "display_data"
    }
   ],
   "source": [
    "fig = plt.subplots(figsize=(20,7))\n",
    "plt.stem(np.arange(len(car_data3)),np.round(c,3))"
   ]
  },
  {
   "cell_type": "code",
   "execution_count": 183,
   "metadata": {},
   "outputs": [
    {
     "data": {
      "text/plain": [
       "(599, 0.31686910758182435)"
      ]
     },
     "execution_count": 183,
     "metadata": {},
     "output_type": "execute_result"
    }
   ],
   "source": [
    "np.argmax(c),np.max(c)"
   ]
  },
  {
   "cell_type": "code",
   "execution_count": 85,
   "metadata": {},
   "outputs": [
    {
     "data": {
      "text/plain": [
       "(1432, 39)"
      ]
     },
     "execution_count": 85,
     "metadata": {},
     "output_type": "execute_result"
    }
   ],
   "source": [
    "car_data3.shape"
   ]
  },
  {
   "cell_type": "code",
   "execution_count": 87,
   "metadata": {},
   "outputs": [],
   "source": [
    "b=car_data3.Price"
   ]
  },
  {
   "cell_type": "code",
   "execution_count": null,
   "metadata": {},
   "outputs": [],
   "source": []
  },
  {
   "cell_type": "code",
   "execution_count": null,
   "metadata": {},
   "outputs": [],
   "source": []
  },
  {
   "cell_type": "code",
   "execution_count": 188,
   "metadata": {},
   "outputs": [],
   "source": [
    "random_mdl = smf.ols('Price~Age_08_04+KM+HP+cc+Gears+Quarterly_Tax+Weight',data=car_data3).fit()"
   ]
  },
  {
   "cell_type": "code",
   "execution_count": 189,
   "metadata": {},
   "outputs": [
    {
     "data": {
      "text/plain": [
       "(0.884484095466464, 24460.12165519588)"
      ]
     },
     "execution_count": 189,
     "metadata": {},
     "output_type": "execute_result"
    }
   ],
   "source": [
    "random_mdl.rsquared,random_mdl.aic"
   ]
  },
  {
   "cell_type": "code",
   "execution_count": 208,
   "metadata": {},
   "outputs": [
    {
     "data": {
      "text/plain": [
       "0       13500\n",
       "1       13750\n",
       "2       13950\n",
       "3       14950\n",
       "4       13750\n",
       "        ...  \n",
       "1430     7500\n",
       "1431    10845\n",
       "1432     8500\n",
       "1433     7250\n",
       "1434     6950\n",
       "Name: Price, Length: 1432, dtype: int64"
      ]
     },
     "execution_count": 208,
     "metadata": {},
     "output_type": "execute_result"
    }
   ],
   "source": [
    "car_data3[\"Price\"]"
   ]
  },
  {
   "cell_type": "code",
   "execution_count": 190,
   "metadata": {},
   "outputs": [],
   "source": [
    "# to predict on new data with mdl3"
   ]
  },
  {
   "cell_type": "code",
   "execution_count": 75,
   "metadata": {},
   "outputs": [],
   "source": [
    "new_data_r = pd.DataFrame({\"Age_08_04\":40,\"KM\":45000,\"HP\":100,\"cc\":1500,\"Doors\":5,\"Gears\":5,\"Quarterly_Tax\":200,\"Weight\":1100},index=[1])"
   ]
  },
  {
   "cell_type": "code",
   "execution_count": 204,
   "metadata": {},
   "outputs": [
    {
     "data": {
      "text/html": [
       "<div>\n",
       "<style scoped>\n",
       "    .dataframe tbody tr th:only-of-type {\n",
       "        vertical-align: middle;\n",
       "    }\n",
       "\n",
       "    .dataframe tbody tr th {\n",
       "        vertical-align: top;\n",
       "    }\n",
       "\n",
       "    .dataframe thead th {\n",
       "        text-align: right;\n",
       "    }\n",
       "</style>\n",
       "<table border=\"1\" class=\"dataframe\">\n",
       "  <thead>\n",
       "    <tr style=\"text-align: right;\">\n",
       "      <th></th>\n",
       "      <th>Age_08_04</th>\n",
       "      <th>KM</th>\n",
       "      <th>HP</th>\n",
       "      <th>cc</th>\n",
       "      <th>Doors</th>\n",
       "      <th>Gears</th>\n",
       "      <th>Quarterly_Tax</th>\n",
       "      <th>Weight</th>\n",
       "    </tr>\n",
       "  </thead>\n",
       "  <tbody>\n",
       "    <tr>\n",
       "      <th>1</th>\n",
       "      <td>40</td>\n",
       "      <td>45000</td>\n",
       "      <td>100</td>\n",
       "      <td>1500</td>\n",
       "      <td>5</td>\n",
       "      <td>5</td>\n",
       "      <td>200</td>\n",
       "      <td>1100</td>\n",
       "    </tr>\n",
       "  </tbody>\n",
       "</table>\n",
       "</div>"
      ],
      "text/plain": [
       "   Age_08_04     KM   HP    cc  Doors  Gears  Quarterly_Tax  Weight\n",
       "1         40  45000  100  1500      5      5            200    1100"
      ]
     },
     "execution_count": 204,
     "metadata": {},
     "output_type": "execute_result"
    }
   ],
   "source": [
    "new_data_r"
   ]
  },
  {
   "cell_type": "code",
   "execution_count": 76,
   "metadata": {},
   "outputs": [
    {
     "data": {
      "text/plain": [
       "1    14440.93756\n",
       "dtype: float64"
      ]
     },
     "execution_count": 76,
     "metadata": {},
     "output_type": "execute_result"
    }
   ],
   "source": [
    "prdct = mdl3.predict(new_data_r)\n",
    "prdct"
   ]
  },
  {
   "cell_type": "code",
   "execution_count": 92,
   "metadata": {},
   "outputs": [
    {
     "data": {
      "text/plain": [
       "0       16337.240360\n",
       "1       15895.162559\n",
       "2       16315.064517\n",
       "3       15983.858831\n",
       "4       15850.581439\n",
       "            ...     \n",
       "1430     9121.569759\n",
       "1431     8505.697794\n",
       "1432     8651.531406\n",
       "1433     8765.270896\n",
       "1434    10641.182965\n",
       "Length: 1432, dtype: float64"
      ]
     },
     "execution_count": 92,
     "metadata": {},
     "output_type": "execute_result"
    }
   ],
   "source": [
    "predict = mdl3.predict(car_data3)\n",
    "predict"
   ]
  },
  {
   "cell_type": "code",
   "execution_count": 80,
   "metadata": {},
   "outputs": [],
   "source": [
    "a=toyota_data[\"Price\"].head()"
   ]
  },
  {
   "cell_type": "code",
   "execution_count": 82,
   "metadata": {},
   "outputs": [
    {
     "name": "stdout",
     "output_type": "stream",
     "text": [
      "Collecting ml_metrics\n",
      "  Downloading ml_metrics-0.1.4.tar.gz (5.0 kB)\n",
      "Requirement already satisfied: numpy in ./opt/anaconda3/lib/python3.8/site-packages (from ml_metrics) (1.19.2)\n",
      "Requirement already satisfied: pandas in ./opt/anaconda3/lib/python3.8/site-packages (from ml_metrics) (1.1.3)\n",
      "Requirement already satisfied: python-dateutil>=2.7.3 in ./opt/anaconda3/lib/python3.8/site-packages (from pandas->ml_metrics) (2.8.1)\n",
      "Requirement already satisfied: pytz>=2017.2 in ./opt/anaconda3/lib/python3.8/site-packages (from pandas->ml_metrics) (2020.1)\n",
      "Requirement already satisfied: six>=1.5 in ./opt/anaconda3/lib/python3.8/site-packages (from python-dateutil>=2.7.3->pandas->ml_metrics) (1.15.0)\n",
      "Building wheels for collected packages: ml-metrics\n",
      "  Building wheel for ml-metrics (setup.py) ... \u001b[?25ldone\n",
      "\u001b[?25h  Created wheel for ml-metrics: filename=ml_metrics-0.1.4-py3-none-any.whl size=7848 sha256=efc742cbac673da7ea7aad11e69b4b797bb5ea7efc6fe9ca0f4159777baaaf38\n",
      "  Stored in directory: /Users/lakshmipriya/Library/Caches/pip/wheels/09/2d/e7/58a96e635aedc543a3a78ff855dc9911d98fc1640e3921c823\n",
      "Successfully built ml-metrics\n",
      "Installing collected packages: ml-metrics\n",
      "Successfully installed ml-metrics-0.1.4\n",
      "\u001b[33mWARNING: You are using pip version 21.0.1; however, version 21.1.2 is available.\n",
      "You should consider upgrading via the '/Users/lakshmipriya/opt/anaconda3/bin/python -m pip install --upgrade pip' command.\u001b[0m\n"
     ]
    }
   ],
   "source": [
    "!pip install ml_metrics"
   ]
  },
  {
   "cell_type": "code",
   "execution_count": 93,
   "metadata": {},
   "outputs": [
    {
     "data": {
      "text/plain": [
       "1226.847629123809"
      ]
     },
     "execution_count": 93,
     "metadata": {},
     "output_type": "execute_result"
    }
   ],
   "source": [
    "from ml_metrics import rmse\n",
    "rmse(predict,b)"
   ]
  },
  {
   "cell_type": "code",
   "execution_count": 94,
   "metadata": {},
   "outputs": [
    {
     "data": {
      "text/plain": [
       "0.8853625611788162"
      ]
     },
     "execution_count": 94,
     "metadata": {},
     "output_type": "execute_result"
    }
   ],
   "source": [
    "mdl3.rsquared"
   ]
  },
  {
   "cell_type": "code",
   "execution_count": 95,
   "metadata": {},
   "outputs": [
    {
     "data": {
      "text/html": [
       "<table class=\"simpletable\">\n",
       "<caption>OLS Regression Results</caption>\n",
       "<tr>\n",
       "  <th>Dep. Variable:</th>          <td>Price</td>      <th>  R-squared:         </th> <td>   0.885</td> \n",
       "</tr>\n",
       "<tr>\n",
       "  <th>Model:</th>                   <td>OLS</td>       <th>  Adj. R-squared:    </th> <td>   0.885</td> \n",
       "</tr>\n",
       "<tr>\n",
       "  <th>Method:</th>             <td>Least Squares</td>  <th>  F-statistic:       </th> <td>   1374.</td> \n",
       "</tr>\n",
       "<tr>\n",
       "  <th>Date:</th>             <td>Mon, 31 May 2021</td> <th>  Prob (F-statistic):</th>  <td>  0.00</td>  \n",
       "</tr>\n",
       "<tr>\n",
       "  <th>Time:</th>                 <td>13:36:07</td>     <th>  Log-Likelihood:    </th> <td> -12217.</td> \n",
       "</tr>\n",
       "<tr>\n",
       "  <th>No. Observations:</th>      <td>  1432</td>      <th>  AIC:               </th> <td>2.445e+04</td>\n",
       "</tr>\n",
       "<tr>\n",
       "  <th>Df Residuals:</th>          <td>  1423</td>      <th>  BIC:               </th> <td>2.450e+04</td>\n",
       "</tr>\n",
       "<tr>\n",
       "  <th>Df Model:</th>              <td>     8</td>      <th>                     </th>     <td> </td>    \n",
       "</tr>\n",
       "<tr>\n",
       "  <th>Covariance Type:</th>      <td>nonrobust</td>    <th>                     </th>     <td> </td>    \n",
       "</tr>\n",
       "</table>\n",
       "<table class=\"simpletable\">\n",
       "<tr>\n",
       "        <td></td>           <th>coef</th>     <th>std err</th>      <th>t</th>      <th>P>|t|</th>  <th>[0.025</th>    <th>0.975]</th>  \n",
       "</tr>\n",
       "<tr>\n",
       "  <th>Intercept</th>     <td>-1.469e+04</td> <td> 1432.612</td> <td>  -10.254</td> <td> 0.000</td> <td>-1.75e+04</td> <td>-1.19e+04</td>\n",
       "</tr>\n",
       "<tr>\n",
       "  <th>Age_08_04</th>     <td> -112.0360</td> <td>    2.478</td> <td>  -45.215</td> <td> 0.000</td> <td> -116.897</td> <td> -107.175</td>\n",
       "</tr>\n",
       "<tr>\n",
       "  <th>KM</th>            <td>   -0.0170</td> <td>    0.001</td> <td>  -14.200</td> <td> 0.000</td> <td>   -0.019</td> <td>   -0.015</td>\n",
       "</tr>\n",
       "<tr>\n",
       "  <th>HP</th>            <td>   36.5809</td> <td>    2.744</td> <td>   13.331</td> <td> 0.000</td> <td>   31.198</td> <td>   41.964</td>\n",
       "</tr>\n",
       "<tr>\n",
       "  <th>cc</th>            <td>   -3.7958</td> <td>    0.302</td> <td>  -12.569</td> <td> 0.000</td> <td>   -4.388</td> <td>   -3.203</td>\n",
       "</tr>\n",
       "<tr>\n",
       "  <th>Doors</th>         <td> -123.7300</td> <td>   37.469</td> <td>   -3.302</td> <td> 0.001</td> <td> -197.231</td> <td>  -50.229</td>\n",
       "</tr>\n",
       "<tr>\n",
       "  <th>Gears</th>         <td>  463.8507</td> <td>  180.886</td> <td>    2.564</td> <td> 0.010</td> <td>  109.019</td> <td>  818.682</td>\n",
       "</tr>\n",
       "<tr>\n",
       "  <th>Quarterly_Tax</th> <td>    5.2361</td> <td>    1.371</td> <td>    3.820</td> <td> 0.000</td> <td>    2.547</td> <td>    7.925</td>\n",
       "</tr>\n",
       "<tr>\n",
       "  <th>Weight</th>        <td>   30.6066</td> <td>    1.290</td> <td>   23.731</td> <td> 0.000</td> <td>   28.077</td> <td>   33.137</td>\n",
       "</tr>\n",
       "</table>\n",
       "<table class=\"simpletable\">\n",
       "<tr>\n",
       "  <th>Omnibus:</th>       <td>122.028</td> <th>  Durbin-Watson:     </th> <td>   1.717</td> \n",
       "</tr>\n",
       "<tr>\n",
       "  <th>Prob(Omnibus):</th> <td> 0.000</td>  <th>  Jarque-Bera (JB):  </th> <td> 708.163</td> \n",
       "</tr>\n",
       "<tr>\n",
       "  <th>Skew:</th>          <td>-0.081</td>  <th>  Prob(JB):          </th> <td>1.68e-154</td>\n",
       "</tr>\n",
       "<tr>\n",
       "  <th>Kurtosis:</th>      <td> 6.441</td>  <th>  Cond. No.          </th> <td>3.45e+06</td> \n",
       "</tr>\n",
       "</table><br/><br/>Notes:<br/>[1] Standard Errors assume that the covariance matrix of the errors is correctly specified.<br/>[2] The condition number is large, 3.45e+06. This might indicate that there are<br/>strong multicollinearity or other numerical problems."
      ],
      "text/plain": [
       "<class 'statsmodels.iolib.summary.Summary'>\n",
       "\"\"\"\n",
       "                            OLS Regression Results                            \n",
       "==============================================================================\n",
       "Dep. Variable:                  Price   R-squared:                       0.885\n",
       "Model:                            OLS   Adj. R-squared:                  0.885\n",
       "Method:                 Least Squares   F-statistic:                     1374.\n",
       "Date:                Mon, 31 May 2021   Prob (F-statistic):               0.00\n",
       "Time:                        13:36:07   Log-Likelihood:                -12217.\n",
       "No. Observations:                1432   AIC:                         2.445e+04\n",
       "Df Residuals:                    1423   BIC:                         2.450e+04\n",
       "Df Model:                           8                                         \n",
       "Covariance Type:            nonrobust                                         \n",
       "=================================================================================\n",
       "                    coef    std err          t      P>|t|      [0.025      0.975]\n",
       "---------------------------------------------------------------------------------\n",
       "Intercept     -1.469e+04   1432.612    -10.254      0.000   -1.75e+04   -1.19e+04\n",
       "Age_08_04      -112.0360      2.478    -45.215      0.000    -116.897    -107.175\n",
       "KM               -0.0170      0.001    -14.200      0.000      -0.019      -0.015\n",
       "HP               36.5809      2.744     13.331      0.000      31.198      41.964\n",
       "cc               -3.7958      0.302    -12.569      0.000      -4.388      -3.203\n",
       "Doors          -123.7300     37.469     -3.302      0.001    -197.231     -50.229\n",
       "Gears           463.8507    180.886      2.564      0.010     109.019     818.682\n",
       "Quarterly_Tax     5.2361      1.371      3.820      0.000       2.547       7.925\n",
       "Weight           30.6066      1.290     23.731      0.000      28.077      33.137\n",
       "==============================================================================\n",
       "Omnibus:                      122.028   Durbin-Watson:                   1.717\n",
       "Prob(Omnibus):                  0.000   Jarque-Bera (JB):              708.163\n",
       "Skew:                          -0.081   Prob(JB):                    1.68e-154\n",
       "Kurtosis:                       6.441   Cond. No.                     3.45e+06\n",
       "==============================================================================\n",
       "\n",
       "Notes:\n",
       "[1] Standard Errors assume that the covariance matrix of the errors is correctly specified.\n",
       "[2] The condition number is large, 3.45e+06. This might indicate that there are\n",
       "strong multicollinearity or other numerical problems.\n",
       "\"\"\""
      ]
     },
     "execution_count": 95,
     "metadata": {},
     "output_type": "execute_result"
    }
   ],
   "source": [
    "mdl3.summary()"
   ]
  },
  {
   "cell_type": "code",
   "execution_count": null,
   "metadata": {},
   "outputs": [],
   "source": []
  }
 ],
 "metadata": {
  "kernelspec": {
   "display_name": "Python 3",
   "language": "python",
   "name": "python3"
  },
  "language_info": {
   "codemirror_mode": {
    "name": "ipython",
    "version": 3
   },
   "file_extension": ".py",
   "mimetype": "text/x-python",
   "name": "python",
   "nbconvert_exporter": "python",
   "pygments_lexer": "ipython3",
   "version": "3.8.5"
  }
 },
 "nbformat": 4,
 "nbformat_minor": 4
}
